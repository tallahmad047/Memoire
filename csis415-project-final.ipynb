{
 "cells": [
  {
   "cell_type": "markdown",
   "id": "d99050cb",
   "metadata": {
    "papermill": {
     "duration": 0.027908,
     "end_time": "2024-01-10T11:35:01.263163",
     "exception": false,
     "start_time": "2024-01-10T11:35:01.235255",
     "status": "completed"
    },
    "tags": []
   },
   "source": [
    "Importing Libraries"
   ]
  },
  {
   "cell_type": "code",
   "execution_count": 1,
   "id": "125d601e",
   "metadata": {
    "_cell_guid": "b1076dfc-b9ad-4769-8c92-a6c4dae69d19",
    "_uuid": "8f2839f25d086af736a60e9eeb907d3b93b6e0e5",
    "execution": {
     "iopub.execute_input": "2024-01-10T11:35:01.318318Z",
     "iopub.status.busy": "2024-01-10T11:35:01.317069Z",
     "iopub.status.idle": "2024-01-10T11:35:04.227458Z",
     "shell.execute_reply": "2024-01-10T11:35:04.226049Z"
    },
    "papermill": {
     "duration": 2.943021,
     "end_time": "2024-01-10T11:35:04.231236",
     "exception": false,
     "start_time": "2024-01-10T11:35:01.288215",
     "status": "completed"
    },
    "tags": []
   },
   "outputs": [],
   "source": [
    "import numpy as np\n",
    "import pandas as pd\n",
    "from sklearn import metrics, preprocessing\n",
    "from sklearn.model_selection import train_test_split, cross_val_score, GridSearchCV\n",
    "from sklearn.linear_model import LogisticRegression\n",
    "from sklearn.ensemble import RandomForestClassifier\n",
    "from sklearn.neural_network import MLPClassifier\n",
    "from sklearn.svm import SVC\n",
    "from kmodes.kmodes import KModes\n",
    "from sklearn.metrics import classification_report\n",
    "from sklearn.preprocessing import LabelEncoder\n",
    "import matplotlib.pyplot as plt\n",
    "import seaborn as sns"
   ]
  },
  {
   "cell_type": "markdown",
   "id": "e9b583e2",
   "metadata": {
    "papermill": {
     "duration": 0.026856,
     "end_time": "2024-01-10T11:35:04.284214",
     "exception": false,
     "start_time": "2024-01-10T11:35:04.257358",
     "status": "completed"
    },
    "tags": []
   },
   "source": [
    "Reading the data"
   ]
  },
  {
   "cell_type": "code",
   "execution_count": 2,
   "id": "30a87f1b",
   "metadata": {
    "_cell_guid": "b1076dfc-b9ad-4769-8c92-a6c4dae69d19",
    "_uuid": "8f2839f25d086af736a60e9eeb907d3b93b6e0e5",
    "execution": {
     "iopub.execute_input": "2024-01-10T11:35:04.338237Z",
     "iopub.status.busy": "2024-01-10T11:35:04.337626Z",
     "iopub.status.idle": "2024-01-10T11:35:04.542206Z",
     "shell.execute_reply": "2024-01-10T11:35:04.541011Z"
    },
    "papermill": {
     "duration": 0.234422,
     "end_time": "2024-01-10T11:35:04.545000",
     "exception": false,
     "start_time": "2024-01-10T11:35:04.310578",
     "status": "completed"
    },
    "tags": []
   },
   "outputs": [
    {
     "data": {
      "text/html": [
       "<div>\n",
       "<style scoped>\n",
       "    .dataframe tbody tr th:only-of-type {\n",
       "        vertical-align: middle;\n",
       "    }\n",
       "\n",
       "    .dataframe tbody tr th {\n",
       "        vertical-align: top;\n",
       "    }\n",
       "\n",
       "    .dataframe thead th {\n",
       "        text-align: right;\n",
       "    }\n",
       "</style>\n",
       "<table border=\"1\" class=\"dataframe\">\n",
       "  <thead>\n",
       "    <tr style=\"text-align: right;\">\n",
       "      <th></th>\n",
       "      <th>id</th>\n",
       "      <th>age</th>\n",
       "      <th>gender</th>\n",
       "      <th>height</th>\n",
       "      <th>weight</th>\n",
       "      <th>ap_hi</th>\n",
       "      <th>ap_lo</th>\n",
       "      <th>cholesterol</th>\n",
       "      <th>gluc</th>\n",
       "      <th>smoke</th>\n",
       "      <th>alco</th>\n",
       "      <th>active</th>\n",
       "      <th>cardio</th>\n",
       "    </tr>\n",
       "  </thead>\n",
       "  <tbody>\n",
       "    <tr>\n",
       "      <th>0</th>\n",
       "      <td>0</td>\n",
       "      <td>18393</td>\n",
       "      <td>2</td>\n",
       "      <td>168</td>\n",
       "      <td>62.0</td>\n",
       "      <td>110</td>\n",
       "      <td>80</td>\n",
       "      <td>1</td>\n",
       "      <td>1</td>\n",
       "      <td>0</td>\n",
       "      <td>0</td>\n",
       "      <td>1</td>\n",
       "      <td>0</td>\n",
       "    </tr>\n",
       "    <tr>\n",
       "      <th>1</th>\n",
       "      <td>1</td>\n",
       "      <td>20228</td>\n",
       "      <td>1</td>\n",
       "      <td>156</td>\n",
       "      <td>85.0</td>\n",
       "      <td>140</td>\n",
       "      <td>90</td>\n",
       "      <td>3</td>\n",
       "      <td>1</td>\n",
       "      <td>0</td>\n",
       "      <td>0</td>\n",
       "      <td>1</td>\n",
       "      <td>1</td>\n",
       "    </tr>\n",
       "    <tr>\n",
       "      <th>2</th>\n",
       "      <td>2</td>\n",
       "      <td>18857</td>\n",
       "      <td>1</td>\n",
       "      <td>165</td>\n",
       "      <td>64.0</td>\n",
       "      <td>130</td>\n",
       "      <td>70</td>\n",
       "      <td>3</td>\n",
       "      <td>1</td>\n",
       "      <td>0</td>\n",
       "      <td>0</td>\n",
       "      <td>0</td>\n",
       "      <td>1</td>\n",
       "    </tr>\n",
       "    <tr>\n",
       "      <th>3</th>\n",
       "      <td>3</td>\n",
       "      <td>17623</td>\n",
       "      <td>2</td>\n",
       "      <td>169</td>\n",
       "      <td>82.0</td>\n",
       "      <td>150</td>\n",
       "      <td>100</td>\n",
       "      <td>1</td>\n",
       "      <td>1</td>\n",
       "      <td>0</td>\n",
       "      <td>0</td>\n",
       "      <td>1</td>\n",
       "      <td>1</td>\n",
       "    </tr>\n",
       "    <tr>\n",
       "      <th>4</th>\n",
       "      <td>4</td>\n",
       "      <td>17474</td>\n",
       "      <td>1</td>\n",
       "      <td>156</td>\n",
       "      <td>56.0</td>\n",
       "      <td>100</td>\n",
       "      <td>60</td>\n",
       "      <td>1</td>\n",
       "      <td>1</td>\n",
       "      <td>0</td>\n",
       "      <td>0</td>\n",
       "      <td>0</td>\n",
       "      <td>0</td>\n",
       "    </tr>\n",
       "  </tbody>\n",
       "</table>\n",
       "</div>"
      ],
      "text/plain": [
       "   id    age  gender  height  weight  ap_hi  ap_lo  cholesterol  gluc  smoke  \\\n",
       "0   0  18393       2     168    62.0    110     80            1     1      0   \n",
       "1   1  20228       1     156    85.0    140     90            3     1      0   \n",
       "2   2  18857       1     165    64.0    130     70            3     1      0   \n",
       "3   3  17623       2     169    82.0    150    100            1     1      0   \n",
       "4   4  17474       1     156    56.0    100     60            1     1      0   \n",
       "\n",
       "   alco  active  cardio  \n",
       "0     0       1       0  \n",
       "1     0       1       1  \n",
       "2     0       0       1  \n",
       "3     0       1       1  \n",
       "4     0       0       0  "
      ]
     },
     "execution_count": 2,
     "metadata": {},
     "output_type": "execute_result"
    }
   ],
   "source": [
    "df = pd.read_csv('data/cardio_train.csv', sep=';')\n",
    "\n",
    "df.head()"
   ]
  },
  {
   "cell_type": "code",
   "execution_count": 3,
   "id": "f8fe590d",
   "metadata": {
    "execution": {
     "iopub.execute_input": "2024-01-10T11:35:04.597319Z",
     "iopub.status.busy": "2024-01-10T11:35:04.596657Z",
     "iopub.status.idle": "2024-01-10T11:35:04.627469Z",
     "shell.execute_reply": "2024-01-10T11:35:04.626084Z"
    },
    "papermill": {
     "duration": 0.059846,
     "end_time": "2024-01-10T11:35:04.630123",
     "exception": false,
     "start_time": "2024-01-10T11:35:04.570277",
     "status": "completed"
    },
    "tags": []
   },
   "outputs": [
    {
     "name": "stdout",
     "output_type": "stream",
     "text": [
      "<class 'pandas.core.frame.DataFrame'>\n",
      "RangeIndex: 70000 entries, 0 to 69999\n",
      "Data columns (total 13 columns):\n",
      " #   Column       Non-Null Count  Dtype  \n",
      "---  ------       --------------  -----  \n",
      " 0   id           70000 non-null  int64  \n",
      " 1   age          70000 non-null  int64  \n",
      " 2   gender       70000 non-null  int64  \n",
      " 3   height       70000 non-null  int64  \n",
      " 4   weight       70000 non-null  float64\n",
      " 5   ap_hi        70000 non-null  int64  \n",
      " 6   ap_lo        70000 non-null  int64  \n",
      " 7   cholesterol  70000 non-null  int64  \n",
      " 8   gluc         70000 non-null  int64  \n",
      " 9   smoke        70000 non-null  int64  \n",
      " 10  alco         70000 non-null  int64  \n",
      " 11  active       70000 non-null  int64  \n",
      " 12  cardio       70000 non-null  int64  \n",
      "dtypes: float64(1), int64(12)\n",
      "memory usage: 6.9 MB\n"
     ]
    }
   ],
   "source": [
    "df.info()"
   ]
  },
  {
   "cell_type": "markdown",
   "id": "50bf0743",
   "metadata": {
    "papermill": {
     "duration": 0.024101,
     "end_time": "2024-01-10T11:35:04.680210",
     "exception": false,
     "start_time": "2024-01-10T11:35:04.656109",
     "status": "completed"
    },
    "tags": []
   },
   "source": [
    "Checking for missing values"
   ]
  },
  {
   "cell_type": "code",
   "execution_count": 4,
   "id": "853462a4",
   "metadata": {
    "execution": {
     "iopub.execute_input": "2024-01-10T11:35:04.731763Z",
     "iopub.status.busy": "2024-01-10T11:35:04.731352Z",
     "iopub.status.idle": "2024-01-10T11:35:04.738717Z",
     "shell.execute_reply": "2024-01-10T11:35:04.737760Z"
    },
    "papermill": {
     "duration": 0.036451,
     "end_time": "2024-01-10T11:35:04.741184",
     "exception": false,
     "start_time": "2024-01-10T11:35:04.704733",
     "status": "completed"
    },
    "tags": []
   },
   "outputs": [
    {
     "name": "stdout",
     "output_type": "stream",
     "text": [
      "id             0\n",
      "age            0\n",
      "gender         0\n",
      "height         0\n",
      "weight         0\n",
      "ap_hi          0\n",
      "ap_lo          0\n",
      "cholesterol    0\n",
      "gluc           0\n",
      "smoke          0\n",
      "alco           0\n",
      "active         0\n",
      "cardio         0\n",
      "dtype: int64\n"
     ]
    }
   ],
   "source": [
    "print(df.isnull().sum())"
   ]
  },
  {
   "cell_type": "code",
   "execution_count": 5,
   "id": "3fcb6872",
   "metadata": {
    "execution": {
     "iopub.execute_input": "2024-01-10T11:35:04.859077Z",
     "iopub.status.busy": "2024-01-10T11:35:04.858635Z",
     "iopub.status.idle": "2024-01-10T11:35:04.871590Z",
     "shell.execute_reply": "2024-01-10T11:35:04.869952Z"
    },
    "papermill": {
     "duration": 0.043662,
     "end_time": "2024-01-10T11:35:04.874441",
     "exception": false,
     "start_time": "2024-01-10T11:35:04.830779",
     "status": "completed"
    },
    "tags": []
   },
   "outputs": [],
   "source": [
    "#drop id\n",
    "df = df.drop('id', axis=1)\n",
    "\n",
    "# print(df)"
   ]
  },
  {
   "cell_type": "markdown",
   "id": "e997bfd0",
   "metadata": {
    "papermill": {
     "duration": 0.025932,
     "end_time": "2024-01-10T11:35:04.925798",
     "exception": false,
     "start_time": "2024-01-10T11:35:04.899866",
     "status": "completed"
    },
    "tags": []
   },
   "source": [
    "  "
   ]
  },
  {
   "cell_type": "markdown",
   "id": "550bffe6",
   "metadata": {
    "papermill": {
     "duration": 0.024867,
     "end_time": "2024-01-10T11:35:04.976350",
     "exception": false,
     "start_time": "2024-01-10T11:35:04.951483",
     "status": "completed"
    },
    "tags": []
   },
   "source": [
    "# **Removing Outliers:**\n",
    "\n",
    "It is important to remove outliers to improve the performance of our prediction models. We have removed outliers that fall outside the range of 2.5% to 97.5% in all instances of ap_hi, ap_lo, weight, and height features. This process has decreased the entries in the data set from 70,000 to 60,142 records. "
   ]
  },
  {
   "cell_type": "code",
   "execution_count": 6,
   "id": "f80aca91",
   "metadata": {
    "execution": {
     "iopub.execute_input": "2024-01-10T11:35:05.031289Z",
     "iopub.status.busy": "2024-01-10T11:35:05.030867Z",
     "iopub.status.idle": "2024-01-10T11:35:05.094996Z",
     "shell.execute_reply": "2024-01-10T11:35:05.093782Z"
    },
    "papermill": {
     "duration": 0.095584,
     "end_time": "2024-01-10T11:35:05.097849",
     "exception": false,
     "start_time": "2024-01-10T11:35:05.002265",
     "status": "completed"
    },
    "tags": []
   },
   "outputs": [
    {
     "data": {
      "text/plain": [
       "60142"
      ]
     },
     "execution_count": 6,
     "metadata": {},
     "output_type": "execute_result"
    }
   ],
   "source": [
    "df.drop(df[(df['height'] > df['height'].quantile(0.975)) | (df['height'] < df['height'].quantile(0.025))].index,inplace=True)\n",
    "df.drop(df[(df['weight'] > df['weight'].quantile(0.975)) | (df['weight'] < df['weight'].quantile(0.025))].index,inplace=True)\n",
    "df.drop(df[(df['ap_hi'] > df['ap_hi'].quantile(0.975)) | (df['ap_hi'] < df['ap_hi'].quantile(0.025))].index,inplace=True)\n",
    "df.drop(df[(df['ap_lo'] > df['ap_lo'].quantile(0.975)) | (df['ap_lo'] < df['ap_lo'].quantile(0.025))].index,inplace=True)\n",
    "len(df)"
   ]
  },
  {
   "cell_type": "markdown",
   "id": "20ed4a53",
   "metadata": {
    "papermill": {
     "duration": 0.026348,
     "end_time": "2024-01-10T11:35:05.150141",
     "exception": false,
     "start_time": "2024-01-10T11:35:05.123793",
     "status": "completed"
    },
    "tags": []
   },
   "source": [
    "How many cases where diastolic pressure is higher than systolic?"
   ]
  },
  {
   "cell_type": "code",
   "execution_count": 7,
   "id": "087fdca1",
   "metadata": {
    "execution": {
     "iopub.execute_input": "2024-01-10T11:35:05.203511Z",
     "iopub.status.busy": "2024-01-10T11:35:05.203086Z",
     "iopub.status.idle": "2024-01-10T11:35:05.212947Z",
     "shell.execute_reply": "2024-01-10T11:35:05.211680Z"
    },
    "papermill": {
     "duration": 0.040083,
     "end_time": "2024-01-10T11:35:05.215772",
     "exception": false,
     "start_time": "2024-01-10T11:35:05.175689",
     "status": "completed"
    },
    "tags": []
   },
   "outputs": [
    {
     "data": {
      "text/plain": [
       "0"
      ]
     },
     "execution_count": 7,
     "metadata": {},
     "output_type": "execute_result"
    }
   ],
   "source": [
    "df[df['ap_lo']> df['ap_hi']].shape[0]"
   ]
  },
  {
   "cell_type": "code",
   "execution_count": 8,
   "id": "aeb9c7bb",
   "metadata": {
    "execution": {
     "iopub.execute_input": "2024-01-10T11:35:05.272307Z",
     "iopub.status.busy": "2024-01-10T11:35:05.271876Z",
     "iopub.status.idle": "2024-01-10T11:35:05.349652Z",
     "shell.execute_reply": "2024-01-10T11:35:05.348307Z"
    },
    "papermill": {
     "duration": 0.108551,
     "end_time": "2024-01-10T11:35:05.352472",
     "exception": false,
     "start_time": "2024-01-10T11:35:05.243921",
     "status": "completed"
    },
    "tags": []
   },
   "outputs": [
    {
     "data": {
      "text/html": [
       "<div>\n",
       "<style scoped>\n",
       "    .dataframe tbody tr th:only-of-type {\n",
       "        vertical-align: middle;\n",
       "    }\n",
       "\n",
       "    .dataframe tbody tr th {\n",
       "        vertical-align: top;\n",
       "    }\n",
       "\n",
       "    .dataframe thead th {\n",
       "        text-align: right;\n",
       "    }\n",
       "</style>\n",
       "<table border=\"1\" class=\"dataframe\">\n",
       "  <thead>\n",
       "    <tr style=\"text-align: right;\">\n",
       "      <th></th>\n",
       "      <th>age</th>\n",
       "      <th>gender</th>\n",
       "      <th>height</th>\n",
       "      <th>weight</th>\n",
       "      <th>ap_hi</th>\n",
       "      <th>ap_lo</th>\n",
       "      <th>cholesterol</th>\n",
       "      <th>gluc</th>\n",
       "      <th>smoke</th>\n",
       "      <th>alco</th>\n",
       "      <th>active</th>\n",
       "      <th>cardio</th>\n",
       "    </tr>\n",
       "  </thead>\n",
       "  <tbody>\n",
       "    <tr>\n",
       "      <th>count</th>\n",
       "      <td>60142.000000</td>\n",
       "      <td>60142.000000</td>\n",
       "      <td>60142.000000</td>\n",
       "      <td>60142.000000</td>\n",
       "      <td>60142.000000</td>\n",
       "      <td>60142.000000</td>\n",
       "      <td>60142.000000</td>\n",
       "      <td>60142.000000</td>\n",
       "      <td>60142.000000</td>\n",
       "      <td>60142.000000</td>\n",
       "      <td>60142.000000</td>\n",
       "      <td>60142.000000</td>\n",
       "    </tr>\n",
       "    <tr>\n",
       "      <th>mean</th>\n",
       "      <td>19468.719979</td>\n",
       "      <td>1.347311</td>\n",
       "      <td>164.554854</td>\n",
       "      <td>73.426805</td>\n",
       "      <td>125.770526</td>\n",
       "      <td>81.046307</td>\n",
       "      <td>1.350953</td>\n",
       "      <td>1.220229</td>\n",
       "      <td>0.085631</td>\n",
       "      <td>0.051877</td>\n",
       "      <td>0.803648</td>\n",
       "      <td>0.488228</td>\n",
       "    </tr>\n",
       "    <tr>\n",
       "      <th>std</th>\n",
       "      <td>2460.510296</td>\n",
       "      <td>0.476120</td>\n",
       "      <td>6.830174</td>\n",
       "      <td>11.614806</td>\n",
       "      <td>13.761847</td>\n",
       "      <td>8.239157</td>\n",
       "      <td>0.670076</td>\n",
       "      <td>0.567607</td>\n",
       "      <td>0.279820</td>\n",
       "      <td>0.221781</td>\n",
       "      <td>0.397241</td>\n",
       "      <td>0.499866</td>\n",
       "    </tr>\n",
       "    <tr>\n",
       "      <th>min</th>\n",
       "      <td>10798.000000</td>\n",
       "      <td>1.000000</td>\n",
       "      <td>150.000000</td>\n",
       "      <td>52.000000</td>\n",
       "      <td>100.000000</td>\n",
       "      <td>60.000000</td>\n",
       "      <td>1.000000</td>\n",
       "      <td>1.000000</td>\n",
       "      <td>0.000000</td>\n",
       "      <td>0.000000</td>\n",
       "      <td>0.000000</td>\n",
       "      <td>0.000000</td>\n",
       "    </tr>\n",
       "    <tr>\n",
       "      <th>25%</th>\n",
       "      <td>17677.250000</td>\n",
       "      <td>1.000000</td>\n",
       "      <td>160.000000</td>\n",
       "      <td>65.000000</td>\n",
       "      <td>120.000000</td>\n",
       "      <td>80.000000</td>\n",
       "      <td>1.000000</td>\n",
       "      <td>1.000000</td>\n",
       "      <td>0.000000</td>\n",
       "      <td>0.000000</td>\n",
       "      <td>1.000000</td>\n",
       "      <td>0.000000</td>\n",
       "    </tr>\n",
       "    <tr>\n",
       "      <th>50%</th>\n",
       "      <td>19705.000000</td>\n",
       "      <td>1.000000</td>\n",
       "      <td>165.000000</td>\n",
       "      <td>72.000000</td>\n",
       "      <td>120.000000</td>\n",
       "      <td>80.000000</td>\n",
       "      <td>1.000000</td>\n",
       "      <td>1.000000</td>\n",
       "      <td>0.000000</td>\n",
       "      <td>0.000000</td>\n",
       "      <td>1.000000</td>\n",
       "      <td>0.000000</td>\n",
       "    </tr>\n",
       "    <tr>\n",
       "      <th>75%</th>\n",
       "      <td>21321.000000</td>\n",
       "      <td>2.000000</td>\n",
       "      <td>169.000000</td>\n",
       "      <td>80.000000</td>\n",
       "      <td>135.000000</td>\n",
       "      <td>90.000000</td>\n",
       "      <td>1.000000</td>\n",
       "      <td>1.000000</td>\n",
       "      <td>0.000000</td>\n",
       "      <td>0.000000</td>\n",
       "      <td>1.000000</td>\n",
       "      <td>1.000000</td>\n",
       "    </tr>\n",
       "    <tr>\n",
       "      <th>max</th>\n",
       "      <td>23713.000000</td>\n",
       "      <td>2.000000</td>\n",
       "      <td>180.000000</td>\n",
       "      <td>106.000000</td>\n",
       "      <td>163.000000</td>\n",
       "      <td>100.000000</td>\n",
       "      <td>3.000000</td>\n",
       "      <td>3.000000</td>\n",
       "      <td>1.000000</td>\n",
       "      <td>1.000000</td>\n",
       "      <td>1.000000</td>\n",
       "      <td>1.000000</td>\n",
       "    </tr>\n",
       "  </tbody>\n",
       "</table>\n",
       "</div>"
      ],
      "text/plain": [
       "                age        gender        height        weight         ap_hi  \\\n",
       "count  60142.000000  60142.000000  60142.000000  60142.000000  60142.000000   \n",
       "mean   19468.719979      1.347311    164.554854     73.426805    125.770526   \n",
       "std     2460.510296      0.476120      6.830174     11.614806     13.761847   \n",
       "min    10798.000000      1.000000    150.000000     52.000000    100.000000   \n",
       "25%    17677.250000      1.000000    160.000000     65.000000    120.000000   \n",
       "50%    19705.000000      1.000000    165.000000     72.000000    120.000000   \n",
       "75%    21321.000000      2.000000    169.000000     80.000000    135.000000   \n",
       "max    23713.000000      2.000000    180.000000    106.000000    163.000000   \n",
       "\n",
       "              ap_lo   cholesterol          gluc         smoke          alco  \\\n",
       "count  60142.000000  60142.000000  60142.000000  60142.000000  60142.000000   \n",
       "mean      81.046307      1.350953      1.220229      0.085631      0.051877   \n",
       "std        8.239157      0.670076      0.567607      0.279820      0.221781   \n",
       "min       60.000000      1.000000      1.000000      0.000000      0.000000   \n",
       "25%       80.000000      1.000000      1.000000      0.000000      0.000000   \n",
       "50%       80.000000      1.000000      1.000000      0.000000      0.000000   \n",
       "75%       90.000000      1.000000      1.000000      0.000000      0.000000   \n",
       "max      100.000000      3.000000      3.000000      1.000000      1.000000   \n",
       "\n",
       "             active        cardio  \n",
       "count  60142.000000  60142.000000  \n",
       "mean       0.803648      0.488228  \n",
       "std        0.397241      0.499866  \n",
       "min        0.000000      0.000000  \n",
       "25%        1.000000      0.000000  \n",
       "50%        1.000000      0.000000  \n",
       "75%        1.000000      1.000000  \n",
       "max        1.000000      1.000000  "
      ]
     },
     "execution_count": 8,
     "metadata": {},
     "output_type": "execute_result"
    }
   ],
   "source": [
    "#after removing outliers\n",
    "df.describe()\n"
   ]
  },
  {
   "cell_type": "markdown",
   "id": "bed3c896",
   "metadata": {
    "papermill": {
     "duration": 0.026181,
     "end_time": "2024-01-10T11:35:05.406245",
     "exception": false,
     "start_time": "2024-01-10T11:35:05.380064",
     "status": "completed"
    },
    "tags": []
   },
   "source": [
    "Transformation:\n",
    "Converting age from days to years"
   ]
  },
  {
   "cell_type": "code",
   "execution_count": 9,
   "id": "769ab176",
   "metadata": {
    "execution": {
     "iopub.execute_input": "2024-01-10T11:35:05.462010Z",
     "iopub.status.busy": "2024-01-10T11:35:05.461612Z",
     "iopub.status.idle": "2024-01-10T11:35:05.476803Z",
     "shell.execute_reply": "2024-01-10T11:35:05.474599Z"
    },
    "papermill": {
     "duration": 0.046285,
     "end_time": "2024-01-10T11:35:05.480238",
     "exception": false,
     "start_time": "2024-01-10T11:35:05.433953",
     "status": "completed"
    },
    "tags": []
   },
   "outputs": [
    {
     "name": "stdout",
     "output_type": "stream",
     "text": [
      "   age  gender  height  weight  ap_hi  ap_lo  cholesterol  gluc  smoke  alco  \\\n",
      "0   50       2     168    62.0    110     80            1     1      0     0   \n",
      "1   55       1     156    85.0    140     90            3     1      0     0   \n",
      "2   52       1     165    64.0    130     70            3     1      0     0   \n",
      "3   48       2     169    82.0    150    100            1     1      0     0   \n",
      "4   48       1     156    56.0    100     60            1     1      0     0   \n",
      "\n",
      "   active  cardio  \n",
      "0       1       0  \n",
      "1       1       1  \n",
      "2       0       1  \n",
      "3       1       1  \n",
      "4       0       0  \n"
     ]
    }
   ],
   "source": [
    "df['age'] = (df['age'] / 365).round().astype('int')\n",
    "\n",
    "print(df.head())"
   ]
  },
  {
   "cell_type": "markdown",
   "id": "de73ed2c",
   "metadata": {
    "papermill": {
     "duration": 0.027663,
     "end_time": "2024-01-10T11:35:05.535865",
     "exception": false,
     "start_time": "2024-01-10T11:35:05.508202",
     "status": "completed"
    },
    "tags": []
   },
   "source": [
    "  "
   ]
  },
  {
   "cell_type": "markdown",
   "id": "1b1d2dd7",
   "metadata": {
    "papermill": {
     "duration": 0.026851,
     "end_time": "2024-01-10T11:35:05.589900",
     "exception": false,
     "start_time": "2024-01-10T11:35:05.563049",
     "status": "completed"
    },
    "tags": []
   },
   "source": [
    "Categorizing features"
   ]
  },
  {
   "cell_type": "code",
   "execution_count": 10,
   "id": "9d5e0702",
   "metadata": {
    "execution": {
     "iopub.execute_input": "2024-01-10T11:35:05.647301Z",
     "iopub.status.busy": "2024-01-10T11:35:05.646633Z",
     "iopub.status.idle": "2024-01-10T11:35:05.672023Z",
     "shell.execute_reply": "2024-01-10T11:35:05.670786Z"
    },
    "papermill": {
     "duration": 0.056497,
     "end_time": "2024-01-10T11:35:05.674648",
     "exception": false,
     "start_time": "2024-01-10T11:35:05.618151",
     "status": "completed"
    },
    "tags": []
   },
   "outputs": [
    {
     "data": {
      "text/html": [
       "<div>\n",
       "<style scoped>\n",
       "    .dataframe tbody tr th:only-of-type {\n",
       "        vertical-align: middle;\n",
       "    }\n",
       "\n",
       "    .dataframe tbody tr th {\n",
       "        vertical-align: top;\n",
       "    }\n",
       "\n",
       "    .dataframe thead th {\n",
       "        text-align: right;\n",
       "    }\n",
       "</style>\n",
       "<table border=\"1\" class=\"dataframe\">\n",
       "  <thead>\n",
       "    <tr style=\"text-align: right;\">\n",
       "      <th></th>\n",
       "      <th>age</th>\n",
       "      <th>gender</th>\n",
       "      <th>height</th>\n",
       "      <th>weight</th>\n",
       "      <th>ap_hi</th>\n",
       "      <th>ap_lo</th>\n",
       "      <th>cholesterol</th>\n",
       "      <th>gluc</th>\n",
       "      <th>smoke</th>\n",
       "      <th>alco</th>\n",
       "      <th>active</th>\n",
       "      <th>cardio</th>\n",
       "      <th>age_group</th>\n",
       "    </tr>\n",
       "  </thead>\n",
       "  <tbody>\n",
       "    <tr>\n",
       "      <th>0</th>\n",
       "      <td>50</td>\n",
       "      <td>2</td>\n",
       "      <td>168</td>\n",
       "      <td>62.0</td>\n",
       "      <td>110</td>\n",
       "      <td>80</td>\n",
       "      <td>1</td>\n",
       "      <td>1</td>\n",
       "      <td>0</td>\n",
       "      <td>0</td>\n",
       "      <td>1</td>\n",
       "      <td>0</td>\n",
       "      <td>3</td>\n",
       "    </tr>\n",
       "    <tr>\n",
       "      <th>1</th>\n",
       "      <td>55</td>\n",
       "      <td>1</td>\n",
       "      <td>156</td>\n",
       "      <td>85.0</td>\n",
       "      <td>140</td>\n",
       "      <td>90</td>\n",
       "      <td>3</td>\n",
       "      <td>1</td>\n",
       "      <td>0</td>\n",
       "      <td>0</td>\n",
       "      <td>1</td>\n",
       "      <td>1</td>\n",
       "      <td>4</td>\n",
       "    </tr>\n",
       "    <tr>\n",
       "      <th>2</th>\n",
       "      <td>52</td>\n",
       "      <td>1</td>\n",
       "      <td>165</td>\n",
       "      <td>64.0</td>\n",
       "      <td>130</td>\n",
       "      <td>70</td>\n",
       "      <td>3</td>\n",
       "      <td>1</td>\n",
       "      <td>0</td>\n",
       "      <td>0</td>\n",
       "      <td>0</td>\n",
       "      <td>1</td>\n",
       "      <td>4</td>\n",
       "    </tr>\n",
       "    <tr>\n",
       "      <th>3</th>\n",
       "      <td>48</td>\n",
       "      <td>2</td>\n",
       "      <td>169</td>\n",
       "      <td>82.0</td>\n",
       "      <td>150</td>\n",
       "      <td>100</td>\n",
       "      <td>1</td>\n",
       "      <td>1</td>\n",
       "      <td>0</td>\n",
       "      <td>0</td>\n",
       "      <td>1</td>\n",
       "      <td>1</td>\n",
       "      <td>3</td>\n",
       "    </tr>\n",
       "    <tr>\n",
       "      <th>4</th>\n",
       "      <td>48</td>\n",
       "      <td>1</td>\n",
       "      <td>156</td>\n",
       "      <td>56.0</td>\n",
       "      <td>100</td>\n",
       "      <td>60</td>\n",
       "      <td>1</td>\n",
       "      <td>1</td>\n",
       "      <td>0</td>\n",
       "      <td>0</td>\n",
       "      <td>0</td>\n",
       "      <td>0</td>\n",
       "      <td>3</td>\n",
       "    </tr>\n",
       "  </tbody>\n",
       "</table>\n",
       "</div>"
      ],
      "text/plain": [
       "   age  gender  height  weight  ap_hi  ap_lo  cholesterol  gluc  smoke  alco  \\\n",
       "0   50       2     168    62.0    110     80            1     1      0     0   \n",
       "1   55       1     156    85.0    140     90            3     1      0     0   \n",
       "2   52       1     165    64.0    130     70            3     1      0     0   \n",
       "3   48       2     169    82.0    150    100            1     1      0     0   \n",
       "4   48       1     156    56.0    100     60            1     1      0     0   \n",
       "\n",
       "   active  cardio age_group  \n",
       "0       1       0         3  \n",
       "1       1       1         4  \n",
       "2       0       1         4  \n",
       "3       1       1         3  \n",
       "4       0       0         3  "
      ]
     },
     "execution_count": 10,
     "metadata": {},
     "output_type": "execute_result"
    }
   ],
   "source": [
    "# # Define the bin edges and labels\n",
    "age_edges = [30, 35, 40, 45, 50, 55, 60, 65]\n",
    "age_labels = [0, 1, 2, 3, 4, 5, 6]\n",
    "\n",
    "#  bin in  5 years span\n",
    "df['age_group'] = pd.cut(df['age'], bins=7, labels=range(7), include_lowest=True,right=True)\n",
    "df.head()\n"
   ]
  },
  {
   "cell_type": "markdown",
   "id": "c82e22e3",
   "metadata": {
    "papermill": {
     "duration": 0.026973,
     "end_time": "2024-01-10T11:35:05.729659",
     "exception": false,
     "start_time": "2024-01-10T11:35:05.702686",
     "status": "completed"
    },
    "tags": []
   },
   "source": [
    "**Attribute Combination**\n",
    "\n",
    "It is important to combine some attributes into more meaningful ones. For example, using Body Mass Index (BMI) instead of the features weight and height individually, is more useful. Therefore, we have added Body Mass Index (BMI) and Mean Arterial Pressure (MAP) to the data. "
   ]
  },
  {
   "cell_type": "code",
   "execution_count": 11,
   "id": "a912a03b",
   "metadata": {
    "execution": {
     "iopub.execute_input": "2024-01-10T11:35:05.790541Z",
     "iopub.status.busy": "2024-01-10T11:35:05.789855Z",
     "iopub.status.idle": "2024-01-10T11:35:05.812348Z",
     "shell.execute_reply": "2024-01-10T11:35:05.811035Z"
    },
    "papermill": {
     "duration": 0.055899,
     "end_time": "2024-01-10T11:35:05.815164",
     "exception": false,
     "start_time": "2024-01-10T11:35:05.759265",
     "status": "completed"
    },
    "tags": []
   },
   "outputs": [
    {
     "name": "stdout",
     "output_type": "stream",
     "text": [
      "16 46\n"
     ]
    },
    {
     "data": {
      "text/plain": [
       "1    0.461325\n",
       "2    0.330202\n",
       "3    0.133068\n",
       "0    0.038193\n",
       "4    0.033554\n",
       "5    0.003658\n",
       "Name: bmi, dtype: float64"
      ]
     },
     "execution_count": 11,
     "metadata": {},
     "output_type": "execute_result"
    }
   ],
   "source": [
    "df['bmi'] = df['weight']/((df['height']/100)**2)\n",
    "df.head()\n",
    "\n",
    "bmiMin = int(df['bmi'].min())\n",
    "bmiMax = int(df['bmi'].max())\n",
    "\n",
    "print(bmiMin, bmiMax)\n",
    "\n",
    "df['bmi'] = pd.cut(df['bmi'], bins=6, labels=range(6), right=True, include_lowest=True)\n",
    "\n",
    "df.head()\n",
    "\n",
    "\n",
    "df[\"bmi\"].value_counts(normalize=True)\n",
    "\n",
    "\n"
   ]
  },
  {
   "cell_type": "code",
   "execution_count": 12,
   "id": "6ca17806",
   "metadata": {
    "execution": {
     "iopub.execute_input": "2024-01-10T11:35:05.890651Z",
     "iopub.status.busy": "2024-01-10T11:35:05.889303Z",
     "iopub.status.idle": "2024-01-10T11:35:05.917843Z",
     "shell.execute_reply": "2024-01-10T11:35:05.916947Z"
    },
    "papermill": {
     "duration": 0.07207,
     "end_time": "2024-01-10T11:35:05.920221",
     "exception": false,
     "start_time": "2024-01-10T11:35:05.848151",
     "status": "completed"
    },
    "tags": []
   },
   "outputs": [
    {
     "name": "stdout",
     "output_type": "stream",
     "text": [
      "73 121\n"
     ]
    },
    {
     "data": {
      "text/html": [
       "<div>\n",
       "<style scoped>\n",
       "    .dataframe tbody tr th:only-of-type {\n",
       "        vertical-align: middle;\n",
       "    }\n",
       "\n",
       "    .dataframe tbody tr th {\n",
       "        vertical-align: top;\n",
       "    }\n",
       "\n",
       "    .dataframe thead th {\n",
       "        text-align: right;\n",
       "    }\n",
       "</style>\n",
       "<table border=\"1\" class=\"dataframe\">\n",
       "  <thead>\n",
       "    <tr style=\"text-align: right;\">\n",
       "      <th></th>\n",
       "      <th>age</th>\n",
       "      <th>gender</th>\n",
       "      <th>height</th>\n",
       "      <th>weight</th>\n",
       "      <th>ap_hi</th>\n",
       "      <th>ap_lo</th>\n",
       "      <th>cholesterol</th>\n",
       "      <th>gluc</th>\n",
       "      <th>smoke</th>\n",
       "      <th>alco</th>\n",
       "      <th>active</th>\n",
       "      <th>cardio</th>\n",
       "      <th>age_group</th>\n",
       "      <th>bmi</th>\n",
       "      <th>map</th>\n",
       "    </tr>\n",
       "  </thead>\n",
       "  <tbody>\n",
       "    <tr>\n",
       "      <th>0</th>\n",
       "      <td>50</td>\n",
       "      <td>2</td>\n",
       "      <td>168</td>\n",
       "      <td>62.0</td>\n",
       "      <td>110</td>\n",
       "      <td>80</td>\n",
       "      <td>1</td>\n",
       "      <td>1</td>\n",
       "      <td>0</td>\n",
       "      <td>0</td>\n",
       "      <td>1</td>\n",
       "      <td>0</td>\n",
       "      <td>3</td>\n",
       "      <td>1</td>\n",
       "      <td>2</td>\n",
       "    </tr>\n",
       "    <tr>\n",
       "      <th>1</th>\n",
       "      <td>55</td>\n",
       "      <td>1</td>\n",
       "      <td>156</td>\n",
       "      <td>85.0</td>\n",
       "      <td>140</td>\n",
       "      <td>90</td>\n",
       "      <td>3</td>\n",
       "      <td>1</td>\n",
       "      <td>0</td>\n",
       "      <td>0</td>\n",
       "      <td>1</td>\n",
       "      <td>1</td>\n",
       "      <td>4</td>\n",
       "      <td>3</td>\n",
       "      <td>4</td>\n",
       "    </tr>\n",
       "    <tr>\n",
       "      <th>2</th>\n",
       "      <td>52</td>\n",
       "      <td>1</td>\n",
       "      <td>165</td>\n",
       "      <td>64.0</td>\n",
       "      <td>130</td>\n",
       "      <td>70</td>\n",
       "      <td>3</td>\n",
       "      <td>1</td>\n",
       "      <td>0</td>\n",
       "      <td>0</td>\n",
       "      <td>0</td>\n",
       "      <td>1</td>\n",
       "      <td>4</td>\n",
       "      <td>1</td>\n",
       "      <td>2</td>\n",
       "    </tr>\n",
       "    <tr>\n",
       "      <th>3</th>\n",
       "      <td>48</td>\n",
       "      <td>2</td>\n",
       "      <td>169</td>\n",
       "      <td>82.0</td>\n",
       "      <td>150</td>\n",
       "      <td>100</td>\n",
       "      <td>1</td>\n",
       "      <td>1</td>\n",
       "      <td>0</td>\n",
       "      <td>0</td>\n",
       "      <td>1</td>\n",
       "      <td>1</td>\n",
       "      <td>3</td>\n",
       "      <td>2</td>\n",
       "      <td>5</td>\n",
       "    </tr>\n",
       "    <tr>\n",
       "      <th>4</th>\n",
       "      <td>48</td>\n",
       "      <td>1</td>\n",
       "      <td>156</td>\n",
       "      <td>56.0</td>\n",
       "      <td>100</td>\n",
       "      <td>60</td>\n",
       "      <td>1</td>\n",
       "      <td>1</td>\n",
       "      <td>0</td>\n",
       "      <td>0</td>\n",
       "      <td>0</td>\n",
       "      <td>0</td>\n",
       "      <td>3</td>\n",
       "      <td>1</td>\n",
       "      <td>0</td>\n",
       "    </tr>\n",
       "  </tbody>\n",
       "</table>\n",
       "</div>"
      ],
      "text/plain": [
       "   age  gender  height  weight  ap_hi  ap_lo  cholesterol  gluc  smoke  alco  \\\n",
       "0   50       2     168    62.0    110     80            1     1      0     0   \n",
       "1   55       1     156    85.0    140     90            3     1      0     0   \n",
       "2   52       1     165    64.0    130     70            3     1      0     0   \n",
       "3   48       2     169    82.0    150    100            1     1      0     0   \n",
       "4   48       1     156    56.0    100     60            1     1      0     0   \n",
       "\n",
       "   active  cardio age_group bmi map  \n",
       "0       1       0         3   1   2  \n",
       "1       1       1         4   3   4  \n",
       "2       0       1         4   1   2  \n",
       "3       1       1         3   2   5  \n",
       "4       0       0         3   1   0  "
      ]
     },
     "execution_count": 12,
     "metadata": {},
     "output_type": "execute_result"
    }
   ],
   "source": [
    "df['map'] = ((2* df['ap_lo']) + df['ap_hi']) / 3\n",
    "\n",
    "mapMin = int(df['map'].min())\n",
    "mapMax = int(df['map'].max())\n",
    "\n",
    "print(mapMin, mapMax)\n",
    "\n",
    "df['map'] = pd.cut(df['map'], bins=6, labels=range(6), right=True, include_lowest=True)\n",
    "\n",
    "df.head()"
   ]
  },
  {
   "cell_type": "markdown",
   "id": "604d11eb",
   "metadata": {
    "papermill": {
     "duration": 0.031667,
     "end_time": "2024-01-10T11:35:05.979574",
     "exception": false,
     "start_time": "2024-01-10T11:35:05.947907",
     "status": "completed"
    },
    "tags": []
   },
   "source": [
    "Print Null rows"
   ]
  },
  {
   "cell_type": "code",
   "execution_count": 13,
   "id": "f531b547",
   "metadata": {
    "execution": {
     "iopub.execute_input": "2024-01-10T11:35:06.065163Z",
     "iopub.status.busy": "2024-01-10T11:35:06.064342Z",
     "iopub.status.idle": "2024-01-10T11:35:06.074108Z",
     "shell.execute_reply": "2024-01-10T11:35:06.073060Z"
    },
    "papermill": {
     "duration": 0.055764,
     "end_time": "2024-01-10T11:35:06.077731",
     "exception": false,
     "start_time": "2024-01-10T11:35:06.021967",
     "status": "completed"
    },
    "tags": []
   },
   "outputs": [
    {
     "name": "stdout",
     "output_type": "stream",
     "text": [
      "Rows with null values:\n",
      "Empty DataFrame\n",
      "Columns: [age, gender, height, weight, ap_hi, ap_lo, cholesterol, gluc, smoke, alco, active, cardio, age_group, bmi, map]\n",
      "Index: []\n"
     ]
    }
   ],
   "source": [
    "null_rows = df[df.isnull().any(axis=1)]\n",
    "print(\"Rows with null values:\")\n",
    "print(null_rows)"
   ]
  },
  {
   "cell_type": "markdown",
   "id": "6081441a",
   "metadata": {
    "papermill": {
     "duration": 0.032483,
     "end_time": "2024-01-10T11:35:06.151727",
     "exception": false,
     "start_time": "2024-01-10T11:35:06.119244",
     "status": "completed"
    },
    "tags": []
   },
   "source": [
    "**Drop features**\n",
    "We only need categorical data"
   ]
  },
  {
   "cell_type": "code",
   "execution_count": 14,
   "id": "8012e42c",
   "metadata": {
    "execution": {
     "iopub.execute_input": "2024-01-10T11:35:06.208934Z",
     "iopub.status.busy": "2024-01-10T11:35:06.208482Z",
     "iopub.status.idle": "2024-01-10T11:35:06.229680Z",
     "shell.execute_reply": "2024-01-10T11:35:06.228429Z"
    },
    "papermill": {
     "duration": 0.0531,
     "end_time": "2024-01-10T11:35:06.232753",
     "exception": false,
     "start_time": "2024-01-10T11:35:06.179653",
     "status": "completed"
    },
    "tags": []
   },
   "outputs": [
    {
     "data": {
      "text/html": [
       "<div>\n",
       "<style scoped>\n",
       "    .dataframe tbody tr th:only-of-type {\n",
       "        vertical-align: middle;\n",
       "    }\n",
       "\n",
       "    .dataframe tbody tr th {\n",
       "        vertical-align: top;\n",
       "    }\n",
       "\n",
       "    .dataframe thead th {\n",
       "        text-align: right;\n",
       "    }\n",
       "</style>\n",
       "<table border=\"1\" class=\"dataframe\">\n",
       "  <thead>\n",
       "    <tr style=\"text-align: right;\">\n",
       "      <th></th>\n",
       "      <th>gender</th>\n",
       "      <th>cholesterol</th>\n",
       "      <th>gluc</th>\n",
       "      <th>smoke</th>\n",
       "      <th>alco</th>\n",
       "      <th>active</th>\n",
       "      <th>cardio</th>\n",
       "      <th>age_group</th>\n",
       "      <th>bmi</th>\n",
       "      <th>map</th>\n",
       "    </tr>\n",
       "  </thead>\n",
       "  <tbody>\n",
       "    <tr>\n",
       "      <th>0</th>\n",
       "      <td>2</td>\n",
       "      <td>1</td>\n",
       "      <td>1</td>\n",
       "      <td>0</td>\n",
       "      <td>0</td>\n",
       "      <td>1</td>\n",
       "      <td>0</td>\n",
       "      <td>3</td>\n",
       "      <td>1</td>\n",
       "      <td>2</td>\n",
       "    </tr>\n",
       "    <tr>\n",
       "      <th>1</th>\n",
       "      <td>1</td>\n",
       "      <td>3</td>\n",
       "      <td>1</td>\n",
       "      <td>0</td>\n",
       "      <td>0</td>\n",
       "      <td>1</td>\n",
       "      <td>1</td>\n",
       "      <td>4</td>\n",
       "      <td>3</td>\n",
       "      <td>4</td>\n",
       "    </tr>\n",
       "    <tr>\n",
       "      <th>2</th>\n",
       "      <td>1</td>\n",
       "      <td>3</td>\n",
       "      <td>1</td>\n",
       "      <td>0</td>\n",
       "      <td>0</td>\n",
       "      <td>0</td>\n",
       "      <td>1</td>\n",
       "      <td>4</td>\n",
       "      <td>1</td>\n",
       "      <td>2</td>\n",
       "    </tr>\n",
       "    <tr>\n",
       "      <th>3</th>\n",
       "      <td>2</td>\n",
       "      <td>1</td>\n",
       "      <td>1</td>\n",
       "      <td>0</td>\n",
       "      <td>0</td>\n",
       "      <td>1</td>\n",
       "      <td>1</td>\n",
       "      <td>3</td>\n",
       "      <td>2</td>\n",
       "      <td>5</td>\n",
       "    </tr>\n",
       "    <tr>\n",
       "      <th>4</th>\n",
       "      <td>1</td>\n",
       "      <td>1</td>\n",
       "      <td>1</td>\n",
       "      <td>0</td>\n",
       "      <td>0</td>\n",
       "      <td>0</td>\n",
       "      <td>0</td>\n",
       "      <td>3</td>\n",
       "      <td>1</td>\n",
       "      <td>0</td>\n",
       "    </tr>\n",
       "  </tbody>\n",
       "</table>\n",
       "</div>"
      ],
      "text/plain": [
       "   gender  cholesterol  gluc  smoke  alco  active  cardio age_group bmi map\n",
       "0       2            1     1      0     0       1       0         3   1   2\n",
       "1       1            3     1      0     0       1       1         4   3   4\n",
       "2       1            3     1      0     0       0       1         4   1   2\n",
       "3       2            1     1      0     0       1       1         3   2   5\n",
       "4       1            1     1      0     0       0       0         3   1   0"
      ]
     },
     "execution_count": 14,
     "metadata": {},
     "output_type": "execute_result"
    }
   ],
   "source": [
    "df_og=df\n",
    "\n",
    "df=df.drop(['height','weight','ap_hi','ap_lo','age'],axis=1)\n",
    "\n",
    "df.head()"
   ]
  },
  {
   "cell_type": "markdown",
   "id": "c8e6a6c2",
   "metadata": {
    "papermill": {
     "duration": 0.032231,
     "end_time": "2024-01-10T11:35:06.302087",
     "exception": false,
     "start_time": "2024-01-10T11:35:06.269856",
     "status": "completed"
    },
    "tags": []
   },
   "source": [
    "**Label Encoder**"
   ]
  },
  {
   "cell_type": "code",
   "execution_count": 15,
   "id": "d6314af2",
   "metadata": {
    "execution": {
     "iopub.execute_input": "2024-01-10T11:35:06.364362Z",
     "iopub.status.busy": "2024-01-10T11:35:06.363933Z",
     "iopub.status.idle": "2024-01-10T11:35:06.451865Z",
     "shell.execute_reply": "2024-01-10T11:35:06.450726Z"
    },
    "papermill": {
     "duration": 0.119999,
     "end_time": "2024-01-10T11:35:06.454564",
     "exception": false,
     "start_time": "2024-01-10T11:35:06.334565",
     "status": "completed"
    },
    "tags": []
   },
   "outputs": [
    {
     "data": {
      "text/html": [
       "<div>\n",
       "<style scoped>\n",
       "    .dataframe tbody tr th:only-of-type {\n",
       "        vertical-align: middle;\n",
       "    }\n",
       "\n",
       "    .dataframe tbody tr th {\n",
       "        vertical-align: top;\n",
       "    }\n",
       "\n",
       "    .dataframe thead th {\n",
       "        text-align: right;\n",
       "    }\n",
       "</style>\n",
       "<table border=\"1\" class=\"dataframe\">\n",
       "  <thead>\n",
       "    <tr style=\"text-align: right;\">\n",
       "      <th></th>\n",
       "      <th>gender</th>\n",
       "      <th>cholesterol</th>\n",
       "      <th>gluc</th>\n",
       "      <th>smoke</th>\n",
       "      <th>alco</th>\n",
       "      <th>active</th>\n",
       "      <th>cardio</th>\n",
       "      <th>age_group</th>\n",
       "      <th>bmi</th>\n",
       "      <th>map</th>\n",
       "    </tr>\n",
       "  </thead>\n",
       "  <tbody>\n",
       "    <tr>\n",
       "      <th>count</th>\n",
       "      <td>60142.000000</td>\n",
       "      <td>60142.000000</td>\n",
       "      <td>60142.000000</td>\n",
       "      <td>60142.000000</td>\n",
       "      <td>60142.000000</td>\n",
       "      <td>60142.000000</td>\n",
       "      <td>60142.000000</td>\n",
       "      <td>60142.000000</td>\n",
       "      <td>60142.000000</td>\n",
       "      <td>60142.000000</td>\n",
       "    </tr>\n",
       "    <tr>\n",
       "      <th>mean</th>\n",
       "      <td>0.347311</td>\n",
       "      <td>0.350953</td>\n",
       "      <td>0.220229</td>\n",
       "      <td>0.085631</td>\n",
       "      <td>0.051877</td>\n",
       "      <td>0.803648</td>\n",
       "      <td>0.488228</td>\n",
       "      <td>4.042233</td>\n",
       "      <td>1.673440</td>\n",
       "      <td>2.359449</td>\n",
       "    </tr>\n",
       "    <tr>\n",
       "      <th>std</th>\n",
       "      <td>0.476120</td>\n",
       "      <td>0.670076</td>\n",
       "      <td>0.567607</td>\n",
       "      <td>0.279820</td>\n",
       "      <td>0.221781</td>\n",
       "      <td>0.397241</td>\n",
       "      <td>0.499866</td>\n",
       "      <td>1.377070</td>\n",
       "      <td>0.898707</td>\n",
       "      <td>1.186906</td>\n",
       "    </tr>\n",
       "    <tr>\n",
       "      <th>min</th>\n",
       "      <td>0.000000</td>\n",
       "      <td>0.000000</td>\n",
       "      <td>0.000000</td>\n",
       "      <td>0.000000</td>\n",
       "      <td>0.000000</td>\n",
       "      <td>0.000000</td>\n",
       "      <td>0.000000</td>\n",
       "      <td>0.000000</td>\n",
       "      <td>0.000000</td>\n",
       "      <td>0.000000</td>\n",
       "    </tr>\n",
       "    <tr>\n",
       "      <th>25%</th>\n",
       "      <td>0.000000</td>\n",
       "      <td>0.000000</td>\n",
       "      <td>0.000000</td>\n",
       "      <td>0.000000</td>\n",
       "      <td>0.000000</td>\n",
       "      <td>1.000000</td>\n",
       "      <td>0.000000</td>\n",
       "      <td>3.000000</td>\n",
       "      <td>1.000000</td>\n",
       "      <td>2.000000</td>\n",
       "    </tr>\n",
       "    <tr>\n",
       "      <th>50%</th>\n",
       "      <td>0.000000</td>\n",
       "      <td>0.000000</td>\n",
       "      <td>0.000000</td>\n",
       "      <td>0.000000</td>\n",
       "      <td>0.000000</td>\n",
       "      <td>1.000000</td>\n",
       "      <td>0.000000</td>\n",
       "      <td>4.000000</td>\n",
       "      <td>2.000000</td>\n",
       "      <td>2.000000</td>\n",
       "    </tr>\n",
       "    <tr>\n",
       "      <th>75%</th>\n",
       "      <td>1.000000</td>\n",
       "      <td>0.000000</td>\n",
       "      <td>0.000000</td>\n",
       "      <td>0.000000</td>\n",
       "      <td>0.000000</td>\n",
       "      <td>1.000000</td>\n",
       "      <td>1.000000</td>\n",
       "      <td>5.000000</td>\n",
       "      <td>2.000000</td>\n",
       "      <td>3.000000</td>\n",
       "    </tr>\n",
       "    <tr>\n",
       "      <th>max</th>\n",
       "      <td>1.000000</td>\n",
       "      <td>2.000000</td>\n",
       "      <td>2.000000</td>\n",
       "      <td>1.000000</td>\n",
       "      <td>1.000000</td>\n",
       "      <td>1.000000</td>\n",
       "      <td>1.000000</td>\n",
       "      <td>6.000000</td>\n",
       "      <td>5.000000</td>\n",
       "      <td>5.000000</td>\n",
       "    </tr>\n",
       "  </tbody>\n",
       "</table>\n",
       "</div>"
      ],
      "text/plain": [
       "             gender   cholesterol          gluc         smoke          alco  \\\n",
       "count  60142.000000  60142.000000  60142.000000  60142.000000  60142.000000   \n",
       "mean       0.347311      0.350953      0.220229      0.085631      0.051877   \n",
       "std        0.476120      0.670076      0.567607      0.279820      0.221781   \n",
       "min        0.000000      0.000000      0.000000      0.000000      0.000000   \n",
       "25%        0.000000      0.000000      0.000000      0.000000      0.000000   \n",
       "50%        0.000000      0.000000      0.000000      0.000000      0.000000   \n",
       "75%        1.000000      0.000000      0.000000      0.000000      0.000000   \n",
       "max        1.000000      2.000000      2.000000      1.000000      1.000000   \n",
       "\n",
       "             active        cardio     age_group           bmi           map  \n",
       "count  60142.000000  60142.000000  60142.000000  60142.000000  60142.000000  \n",
       "mean       0.803648      0.488228      4.042233      1.673440      2.359449  \n",
       "std        0.397241      0.499866      1.377070      0.898707      1.186906  \n",
       "min        0.000000      0.000000      0.000000      0.000000      0.000000  \n",
       "25%        1.000000      0.000000      3.000000      1.000000      2.000000  \n",
       "50%        1.000000      0.000000      4.000000      2.000000      2.000000  \n",
       "75%        1.000000      1.000000      5.000000      2.000000      3.000000  \n",
       "max        1.000000      1.000000      6.000000      5.000000      5.000000  "
      ]
     },
     "execution_count": 15,
     "metadata": {},
     "output_type": "execute_result"
    }
   ],
   "source": [
    "le = preprocessing.LabelEncoder()\n",
    "df = df.apply(le.fit_transform)\n",
    "df.describe()"
   ]
  },
  {
   "cell_type": "markdown",
   "id": "f21e65f0",
   "metadata": {
    "papermill": {
     "duration": 0.030827,
     "end_time": "2024-01-10T11:35:06.514627",
     "exception": false,
     "start_time": "2024-01-10T11:35:06.483800",
     "status": "completed"
    },
    "tags": []
   },
   "source": [
    "# **Clustering**\n",
    "\n",
    "Clustering is used in machine learning to find similarities between data by grouping.  The most common technique for clustering is K-means. However, it is not effective for categorical data. K-means uses a Euclidean distance measure differences between data points. For our data, we have used **K-modes** which is the appropriate clustering algorithm for categorical data because it uses mode-based distance between the categories, so it is more suitable for categorical data. To find the optimal number of clusters, we have utilized the **elbow curve method**. "
   ]
  },
  {
   "cell_type": "code",
   "execution_count": 16,
   "id": "ae432ba0",
   "metadata": {
    "execution": {
     "iopub.execute_input": "2024-01-10T11:35:06.576367Z",
     "iopub.status.busy": "2024-01-10T11:35:06.575936Z",
     "iopub.status.idle": "2024-01-10T11:50:38.276200Z",
     "shell.execute_reply": "2024-01-10T11:50:38.274784Z"
    },
    "papermill": {
     "duration": 931.735397,
     "end_time": "2024-01-10T11:50:38.279435",
     "exception": false,
     "start_time": "2024-01-10T11:35:06.544038",
     "status": "completed"
    },
    "tags": []
   },
   "outputs": [],
   "source": [
    "cost = []\n",
    "num_clusters = range(1,6) # 1 to 5\n",
    "for i in list(num_clusters):\n",
    "    kmode = KModes(n_clusters=i, init = \"Huang\", n_init = 5, verbose=0,random_state=1)\n",
    "    kmode.fit_predict(df)\n",
    "    cost.append(kmode.cost_)\n"
   ]
  },
  {
   "cell_type": "markdown",
   "id": "a322587f",
   "metadata": {
    "papermill": {
     "duration": 0.031566,
     "end_time": "2024-01-10T11:50:38.342155",
     "exception": false,
     "start_time": "2024-01-10T11:50:38.310589",
     "status": "completed"
    },
    "tags": []
   },
   "source": [
    "**Clusters graph**"
   ]
  },
  {
   "cell_type": "code",
   "execution_count": 17,
   "id": "727e3d9d",
   "metadata": {
    "execution": {
     "iopub.execute_input": "2024-01-10T11:50:38.403846Z",
     "iopub.status.busy": "2024-01-10T11:50:38.403115Z",
     "iopub.status.idle": "2024-01-10T11:50:38.789495Z",
     "shell.execute_reply": "2024-01-10T11:50:38.788075Z"
    },
    "papermill": {
     "duration": 0.419582,
     "end_time": "2024-01-10T11:50:38.792409",
     "exception": false,
     "start_time": "2024-01-10T11:50:38.372827",
     "status": "completed"
    },
    "tags": []
   },
   "outputs": [
    {
     "data": {
      "image/png": "[encoded data removed]",
      "text/plain": [
       "<Figure size 640x480 with 1 Axes>"
      ]
     },
     "metadata": {},
     "output_type": "display_data"
    }
   ],
   "source": [
    "plt.plot(num_clusters, cost, 'bo-')\n",
    "plt.xlabel('num_clusters')\n",
    "plt.ylabel('Cost')\n",
    "plt.title('Elbow Method For Optimal Number of Clusters')\n",
    "plt.show()"
   ]
  },
  {
   "cell_type": "markdown",
   "id": "ceeedf8b",
   "metadata": {},
   "source": []
  },
  {
   "cell_type": "markdown",
   "id": "53f296ef",
   "metadata": {
    "papermill": {
     "duration": 0.032587,
     "end_time": "2024-01-10T11:50:38.855481",
     "exception": false,
     "start_time": "2024-01-10T11:50:38.822894",
     "status": "completed"
    },
    "tags": []
   },
   "source": [
    "Building KModes model"
   ]
  },
  {
   "cell_type": "code",
   "execution_count": 18,
   "id": "0e651789",
   "metadata": {
    "execution": {
     "iopub.execute_input": "2024-01-10T11:50:38.916521Z",
     "iopub.status.busy": "2024-01-10T11:50:38.915974Z",
     "iopub.status.idle": "2024-01-10T11:52:42.664122Z",
     "shell.execute_reply": "2024-01-10T11:52:42.662757Z"
    },
    "papermill": {
     "duration": 123.813292,
     "end_time": "2024-01-10T11:52:42.698076",
     "exception": false,
     "start_time": "2024-01-10T11:50:38.884784",
     "status": "completed"
    },
    "tags": []
   },
   "outputs": [
    {
     "data": {
      "text/plain": [
       "array([1, 0, 1, ..., 1, 0, 1], dtype=uint16)"
      ]
     },
     "execution_count": 18,
     "metadata": {},
     "output_type": "execute_result"
    }
   ],
   "source": [
    "km = KModes(n_clusters=2, init = \"Huang\", n_init = 5,random_state=1)\n",
    "clusters = km.fit_predict(df)\n",
    "clusters"
   ]
  },
  {
   "cell_type": "markdown",
   "id": "f1418994",
   "metadata": {
    "papermill": {
     "duration": 0.030745,
     "end_time": "2024-01-10T11:52:42.759043",
     "exception": false,
     "start_time": "2024-01-10T11:52:42.728298",
     "status": "completed"
    },
    "tags": []
   },
   "source": [
    "Adding clusters column in DF"
   ]
  },
  {
   "cell_type": "code",
   "execution_count": 19,
   "id": "4007adb7",
   "metadata": {
    "execution": {
     "iopub.execute_input": "2024-01-10T11:52:42.818294Z",
     "iopub.status.busy": "2024-01-10T11:52:42.817863Z",
     "iopub.status.idle": "2024-01-10T11:52:42.835139Z",
     "shell.execute_reply": "2024-01-10T11:52:42.833925Z"
    },
    "papermill": {
     "duration": 0.049854,
     "end_time": "2024-01-10T11:52:42.837540",
     "exception": false,
     "start_time": "2024-01-10T11:52:42.787686",
     "status": "completed"
    },
    "tags": []
   },
   "outputs": [
    {
     "data": {
      "text/html": [
       "<div>\n",
       "<style scoped>\n",
       "    .dataframe tbody tr th:only-of-type {\n",
       "        vertical-align: middle;\n",
       "    }\n",
       "\n",
       "    .dataframe tbody tr th {\n",
       "        vertical-align: top;\n",
       "    }\n",
       "\n",
       "    .dataframe thead th {\n",
       "        text-align: right;\n",
       "    }\n",
       "</style>\n",
       "<table border=\"1\" class=\"dataframe\">\n",
       "  <thead>\n",
       "    <tr style=\"text-align: right;\">\n",
       "      <th></th>\n",
       "      <th>clusters</th>\n",
       "      <th>gender</th>\n",
       "      <th>cholesterol</th>\n",
       "      <th>gluc</th>\n",
       "      <th>smoke</th>\n",
       "      <th>alco</th>\n",
       "      <th>active</th>\n",
       "      <th>cardio</th>\n",
       "      <th>age_group</th>\n",
       "      <th>bmi</th>\n",
       "      <th>map</th>\n",
       "    </tr>\n",
       "  </thead>\n",
       "  <tbody>\n",
       "    <tr>\n",
       "      <th>0</th>\n",
       "      <td>1</td>\n",
       "      <td>1</td>\n",
       "      <td>0</td>\n",
       "      <td>0</td>\n",
       "      <td>0</td>\n",
       "      <td>0</td>\n",
       "      <td>1</td>\n",
       "      <td>0</td>\n",
       "      <td>3</td>\n",
       "      <td>1</td>\n",
       "      <td>2</td>\n",
       "    </tr>\n",
       "    <tr>\n",
       "      <th>1</th>\n",
       "      <td>0</td>\n",
       "      <td>0</td>\n",
       "      <td>2</td>\n",
       "      <td>0</td>\n",
       "      <td>0</td>\n",
       "      <td>0</td>\n",
       "      <td>1</td>\n",
       "      <td>1</td>\n",
       "      <td>4</td>\n",
       "      <td>3</td>\n",
       "      <td>4</td>\n",
       "    </tr>\n",
       "    <tr>\n",
       "      <th>2</th>\n",
       "      <td>1</td>\n",
       "      <td>0</td>\n",
       "      <td>2</td>\n",
       "      <td>0</td>\n",
       "      <td>0</td>\n",
       "      <td>0</td>\n",
       "      <td>0</td>\n",
       "      <td>1</td>\n",
       "      <td>4</td>\n",
       "      <td>1</td>\n",
       "      <td>2</td>\n",
       "    </tr>\n",
       "    <tr>\n",
       "      <th>3</th>\n",
       "      <td>0</td>\n",
       "      <td>1</td>\n",
       "      <td>0</td>\n",
       "      <td>0</td>\n",
       "      <td>0</td>\n",
       "      <td>0</td>\n",
       "      <td>1</td>\n",
       "      <td>1</td>\n",
       "      <td>3</td>\n",
       "      <td>2</td>\n",
       "      <td>5</td>\n",
       "    </tr>\n",
       "    <tr>\n",
       "      <th>4</th>\n",
       "      <td>1</td>\n",
       "      <td>0</td>\n",
       "      <td>0</td>\n",
       "      <td>0</td>\n",
       "      <td>0</td>\n",
       "      <td>0</td>\n",
       "      <td>0</td>\n",
       "      <td>0</td>\n",
       "      <td>3</td>\n",
       "      <td>1</td>\n",
       "      <td>0</td>\n",
       "    </tr>\n",
       "  </tbody>\n",
       "</table>\n",
       "</div>"
      ],
      "text/plain": [
       "   clusters  gender  cholesterol  gluc  smoke  alco  active  cardio  \\\n",
       "0         1       1            0     0      0     0       1       0   \n",
       "1         0       0            2     0      0     0       1       1   \n",
       "2         1       0            2     0      0     0       0       1   \n",
       "3         0       1            0     0      0     0       1       1   \n",
       "4         1       0            0     0      0     0       0       0   \n",
       "\n",
       "   age_group  bmi  map  \n",
       "0          3    1    2  \n",
       "1          4    3    4  \n",
       "2          4    1    2  \n",
       "3          3    2    5  \n",
       "4          3    1    0  "
      ]
     },
     "execution_count": 19,
     "metadata": {},
     "output_type": "execute_result"
    }
   ],
   "source": [
    "df.insert(0,\"clusters\",clusters,True)\n",
    "\n",
    "df.head()"
   ]
  },
  {
   "cell_type": "code",
   "execution_count": 20,
   "id": "7710566f",
   "metadata": {},
   "outputs": [
    {
     "name": "stdout",
     "output_type": "stream",
     "text": [
      "<class 'pandas.core.frame.DataFrame'>\n",
      "Int64Index: 60142 entries, 0 to 69999\n",
      "Data columns (total 11 columns):\n",
      " #   Column       Non-Null Count  Dtype \n",
      "---  ------       --------------  ----- \n",
      " 0   clusters     60142 non-null  uint16\n",
      " 1   gender       60142 non-null  int64 \n",
      " 2   cholesterol  60142 non-null  int64 \n",
      " 3   gluc         60142 non-null  int64 \n",
      " 4   smoke        60142 non-null  int64 \n",
      " 5   alco         60142 non-null  int64 \n",
      " 6   active       60142 non-null  int64 \n",
      " 7   cardio       60142 non-null  int64 \n",
      " 8   age_group    60142 non-null  int64 \n",
      " 9   bmi          60142 non-null  int64 \n",
      " 10  map          60142 non-null  int64 \n",
      "dtypes: int64(10), uint16(1)\n",
      "memory usage: 5.2 MB\n"
     ]
    },
    {
     "ename": "",
     "evalue": "",
     "output_type": "error",
     "traceback": [
      "\u001b[1;31mThe Kernel crashed while executing code in the current cell or a previous cell. \n",
      "\u001b[1;31mPlease review the code in the cell(s) to identify a possible cause of the failure. \n",
      "\u001b[1;31mClick <a href='https://aka.ms/vscodeJupyterKernelCrash'>here</a> for more info. \n",
      "\u001b[1;31mView Jupyter <a href='command:jupyter.viewOutput'>log</a> for further details."
     ]
    }
   ],
   "source": [
    "df.info()"
   ]
  },
  {
   "cell_type": "markdown",
   "id": "b01d9e41",
   "metadata": {
    "papermill": {
     "duration": 0.0291,
     "end_time": "2024-01-10T11:52:42.895542",
     "exception": false,
     "start_time": "2024-01-10T11:52:42.866442",
     "status": "completed"
    },
    "tags": []
   },
   "source": [
    "# **Correlation Matrix**"
   ]
  },
  {
   "cell_type": "code",
   "execution_count": 20,
   "id": "1d84235f",
   "metadata": {
    "execution": {
     "iopub.execute_input": "2024-01-10T11:52:42.954723Z",
     "iopub.status.busy": "2024-01-10T11:52:42.954265Z",
     "iopub.status.idle": "2024-01-10T11:52:43.778869Z",
     "shell.execute_reply": "2024-01-10T11:52:43.777718Z"
    },
    "papermill": {
     "duration": 0.857708,
     "end_time": "2024-01-10T11:52:43.781917",
     "exception": false,
     "start_time": "2024-01-10T11:52:42.924209",
     "status": "completed"
    },
    "tags": []
   },
   "outputs": [
    {
     "data": {
      "image/png": "[encoded data removed]",
      "text/plain": [
       "<Figure size 1000x800 with 2 Axes>"
      ]
     },
     "metadata": {},
     "output_type": "display_data"
    }
   ],
   "source": [
    "# Set up figure\n",
    "plt.figure(figsize=(10, 8))\n",
    "\n",
    "# Draw correlation matrix\n",
    "sns.heatmap(df.corr(), annot=True, cmap='Spectral', fmt=\".2f\", linewidths=.5)\n",
    "\n",
    "# Show the figure\n",
    "plt.title('Correlation Matrix')\n",
    "plt.show()"
   ]
  },
  {
   "cell_type": "markdown",
   "id": "c43278a6",
   "metadata": {
    "papermill": {
     "duration": 0.031951,
     "end_time": "2024-01-10T11:52:43.847625",
     "exception": false,
     "start_time": "2024-01-10T11:52:43.815674",
     "status": "completed"
    },
    "tags": []
   },
   "source": [
    "'gender' has a correlation of 0 to our target 'cardio', and 'smoke' has a correlation of '0.01'.\n",
    "We will remove those features to increase performance."
   ]
  },
  {
   "cell_type": "code",
   "execution_count": null,
   "id": "4bb9e9a5",
   "metadata": {},
   "outputs": [],
   "source": []
  },
  {
   "cell_type": "code",
   "execution_count": null,
   "metadata": {},
   "outputs": [],
   "source": []
  },
  {
   "cell_type": "markdown",
   "id": "90226722",
   "metadata": {
    "papermill": {
     "duration": 0.030873,
     "end_time": "2024-01-10T11:52:43.910539",
     "exception": false,
     "start_time": "2024-01-10T11:52:43.879666",
     "status": "completed"
    },
    "tags": []
   },
   "source": [
    "Distribution of cardio in clusters"
   ]
  },
  {
   "cell_type": "code",
   "execution_count": 21,
   "id": "815f92c5",
   "metadata": {
    "execution": {
     "iopub.execute_input": "2024-01-10T11:52:43.974619Z",
     "iopub.status.busy": "2024-01-10T11:52:43.973812Z",
     "iopub.status.idle": "2024-01-10T11:52:44.295010Z",
     "shell.execute_reply": "2024-01-10T11:52:44.293781Z"
    },
    "papermill": {
     "duration": 0.356969,
     "end_time": "2024-01-10T11:52:44.298425",
     "exception": false,
     "start_time": "2024-01-10T11:52:43.941456",
     "status": "completed"
    },
    "tags": []
   },
   "outputs": [
    {
     "data": {
      "image/png": "[encoded data removed]",
      "text/plain": [
       "<Figure size 640x480 with 1 Axes>"
      ]
     },
     "metadata": {},
     "output_type": "display_data"
    }
   ],
   "source": [
    "sns.countplot(x='clusters', hue='cardio', data=df)\n",
    "plt.title('Distribution of Cardiovascular Disease within Clusters')\n",
    "plt.show()\n"
   ]
  },
  {
   "cell_type": "markdown",
   "id": "274f86fc",
   "metadata": {
    "papermill": {
     "duration": 0.03417,
     "end_time": "2024-01-10T11:52:44.365956",
     "exception": false,
     "start_time": "2024-01-10T11:52:44.331786",
     "status": "completed"
    },
    "tags": []
   },
   "source": [
    "\n",
    "\n",
    "# **Split Data**\n",
    "\n",
    "Training set: 80%\n",
    "\n",
    "Test set: 20%\n",
    "\n",
    "According to the correlation table, gender has 0 correlation with our target. Moreover, ‘alco’ has 0.01 correlation. Therefore, we dropped those two features and saw an increase in the performance of our models. "
   ]
  },
  {
   "cell_type": "code",
   "execution_count": 22,
   "id": "75abe610",
   "metadata": {
    "execution": {
     "iopub.execute_input": "2024-01-10T11:52:44.437840Z",
     "iopub.status.busy": "2024-01-10T11:52:44.437013Z",
     "iopub.status.idle": "2024-01-10T11:52:44.454177Z",
     "shell.execute_reply": "2024-01-10T11:52:44.452914Z"
    },
    "papermill": {
     "duration": 0.055236,
     "end_time": "2024-01-10T11:52:44.456803",
     "exception": false,
     "start_time": "2024-01-10T11:52:44.401567",
     "status": "completed"
    },
    "tags": []
   },
   "outputs": [
    {
     "data": {
      "text/html": [
       "<div>\n",
       "<style scoped>\n",
       "    .dataframe tbody tr th:only-of-type {\n",
       "        vertical-align: middle;\n",
       "    }\n",
       "\n",
       "    .dataframe tbody tr th {\n",
       "        vertical-align: top;\n",
       "    }\n",
       "\n",
       "    .dataframe thead th {\n",
       "        text-align: right;\n",
       "    }\n",
       "</style>\n",
       "<table border=\"1\" class=\"dataframe\">\n",
       "  <thead>\n",
       "    <tr style=\"text-align: right;\">\n",
       "      <th></th>\n",
       "      <th>clusters</th>\n",
       "      <th>cholesterol</th>\n",
       "      <th>gluc</th>\n",
       "      <th>smoke</th>\n",
       "      <th>active</th>\n",
       "      <th>age_group</th>\n",
       "      <th>bmi</th>\n",
       "      <th>map</th>\n",
       "    </tr>\n",
       "  </thead>\n",
       "  <tbody>\n",
       "    <tr>\n",
       "      <th>0</th>\n",
       "      <td>1</td>\n",
       "      <td>0</td>\n",
       "      <td>0</td>\n",
       "      <td>0</td>\n",
       "      <td>1</td>\n",
       "      <td>3</td>\n",
       "      <td>1</td>\n",
       "      <td>2</td>\n",
       "    </tr>\n",
       "    <tr>\n",
       "      <th>1</th>\n",
       "      <td>0</td>\n",
       "      <td>2</td>\n",
       "      <td>0</td>\n",
       "      <td>0</td>\n",
       "      <td>1</td>\n",
       "      <td>4</td>\n",
       "      <td>3</td>\n",
       "      <td>4</td>\n",
       "    </tr>\n",
       "    <tr>\n",
       "      <th>2</th>\n",
       "      <td>1</td>\n",
       "      <td>2</td>\n",
       "      <td>0</td>\n",
       "      <td>0</td>\n",
       "      <td>0</td>\n",
       "      <td>4</td>\n",
       "      <td>1</td>\n",
       "      <td>2</td>\n",
       "    </tr>\n",
       "    <tr>\n",
       "      <th>3</th>\n",
       "      <td>0</td>\n",
       "      <td>0</td>\n",
       "      <td>0</td>\n",
       "      <td>0</td>\n",
       "      <td>1</td>\n",
       "      <td>3</td>\n",
       "      <td>2</td>\n",
       "      <td>5</td>\n",
       "    </tr>\n",
       "    <tr>\n",
       "      <th>4</th>\n",
       "      <td>1</td>\n",
       "      <td>0</td>\n",
       "      <td>0</td>\n",
       "      <td>0</td>\n",
       "      <td>0</td>\n",
       "      <td>3</td>\n",
       "      <td>1</td>\n",
       "      <td>0</td>\n",
       "    </tr>\n",
       "  </tbody>\n",
       "</table>\n",
       "</div>"
      ],
      "text/plain": [
       "   clusters  cholesterol  gluc  smoke  active  age_group  bmi  map\n",
       "0         1            0     0      0       1          3    1    2\n",
       "1         0            2     0      0       1          4    3    4\n",
       "2         1            2     0      0       0          4    1    2\n",
       "3         0            0     0      0       1          3    2    5\n",
       "4         1            0     0      0       0          3    1    0"
      ]
     },
     "execution_count": 22,
     "metadata": {},
     "output_type": "execute_result"
    }
   ],
   "source": [
    "x = df.drop(['cardio','gender','alco'], axis=1)\n",
    "y = df['cardio']\n",
    "x.head()"
   ]
  },
  {
   "cell_type": "code",
   "execution_count": 23,
   "id": "7d144e65",
   "metadata": {
    "execution": {
     "iopub.execute_input": "2024-01-10T11:52:44.525643Z",
     "iopub.status.busy": "2024-01-10T11:52:44.524780Z",
     "iopub.status.idle": "2024-01-10T11:52:44.541624Z",
     "shell.execute_reply": "2024-01-10T11:52:44.540036Z"
    },
    "papermill": {
     "duration": 0.054268,
     "end_time": "2024-01-10T11:52:44.544974",
     "exception": false,
     "start_time": "2024-01-10T11:52:44.490706",
     "status": "completed"
    },
    "tags": []
   },
   "outputs": [],
   "source": [
    "x_train,x_test,y_train,y_test=train_test_split(x,y,test_size=0.20,random_state=1)"
   ]
  },
  {
   "cell_type": "code",
   "execution_count": 24,
   "id": "04c73650",
   "metadata": {
    "execution": {
     "iopub.execute_input": "2024-01-10T11:52:44.618030Z",
     "iopub.status.busy": "2024-01-10T11:52:44.617592Z",
     "iopub.status.idle": "2024-01-10T11:52:44.631559Z",
     "shell.execute_reply": "2024-01-10T11:52:44.629952Z"
    },
    "papermill": {
     "duration": 0.053914,
     "end_time": "2024-01-10T11:52:44.634472",
     "exception": false,
     "start_time": "2024-01-10T11:52:44.580558",
     "status": "completed"
    },
    "tags": []
   },
   "outputs": [
    {
     "name": "stdout",
     "output_type": "stream",
     "text": [
      "<class 'pandas.core.frame.DataFrame'>\n",
      "Index: 48113 entries, 20655 to 38356\n",
      "Data columns (total 8 columns):\n",
      " #   Column       Non-Null Count  Dtype \n",
      "---  ------       --------------  ----- \n",
      " 0   clusters     48113 non-null  uint16\n",
      " 1   cholesterol  48113 non-null  int64 \n",
      " 2   gluc         48113 non-null  int64 \n",
      " 3   smoke        48113 non-null  int64 \n",
      " 4   active       48113 non-null  int64 \n",
      " 5   age_group    48113 non-null  int64 \n",
      " 6   bmi          48113 non-null  int64 \n",
      " 7   map          48113 non-null  int64 \n",
      "dtypes: int64(7), uint16(1)\n",
      "memory usage: 3.0 MB\n"
     ]
    }
   ],
   "source": [
    "x_train.info()"
   ]
  },
  {
   "cell_type": "markdown",
   "id": "e90276dc",
   "metadata": {
    "papermill": {
     "duration": 0.034675,
     "end_time": "2024-01-10T11:52:44.701261",
     "exception": false,
     "start_time": "2024-01-10T11:52:44.666586",
     "status": "completed"
    },
    "tags": []
   },
   "source": [
    "# **Random Forest**"
   ]
  },
  {
   "cell_type": "markdown",
   "id": "696bbdb6",
   "metadata": {
    "papermill": {
     "duration": 0.032602,
     "end_time": "2024-01-10T11:52:44.768268",
     "exception": false,
     "start_time": "2024-01-10T11:52:44.735666",
     "status": "completed"
    },
    "tags": []
   },
   "source": [
    "Without CV"
   ]
  },
  {
   "cell_type": "code",
   "execution_count": 25,
   "id": "6eddab32",
   "metadata": {
    "execution": {
     "iopub.execute_input": "2024-01-10T11:52:44.837649Z",
     "iopub.status.busy": "2024-01-10T11:52:44.836316Z",
     "iopub.status.idle": "2024-01-10T11:52:47.625308Z",
     "shell.execute_reply": "2024-01-10T11:52:47.623731Z"
    },
    "papermill": {
     "duration": 2.825652,
     "end_time": "2024-01-10T11:52:47.628158",
     "exception": false,
     "start_time": "2024-01-10T11:52:44.802506",
     "status": "completed"
    },
    "tags": []
   },
   "outputs": [
    {
     "name": "stdout",
     "output_type": "stream",
     "text": [
      "Accuracy without CV: 87.49\n"
     ]
    }
   ],
   "source": [
    "# build the model\n",
    "rfModel = RandomForestClassifier(random_state=1)\n",
    "\n",
    "# Fit the model\n",
    "rfModel.fit(x_train, y_train)\n",
    "\n",
    "# Make predictions\n",
    "rf_pred = rfModel.predict(x_test)\n",
    "\n",
    "# accuracy\n",
    "rf_accuracy = metrics.accuracy_score(y_test, rf_pred)*100\n",
    "print(f\"Accuracy without CV: {rf_accuracy:.2f}\")"
   ]
  },
  {
   "cell_type": "markdown",
   "id": "182f3b02",
   "metadata": {
    "papermill": {
     "duration": 0.031842,
     "end_time": "2024-01-10T11:52:47.693304",
     "exception": false,
     "start_time": "2024-01-10T11:52:47.661462",
     "status": "completed"
    },
    "tags": []
   },
   "source": [
    "GridsearchCV\n",
    "cross-validation technique that finds the optimal parameter values for a model"
   ]
  },
  {
   "cell_type": "markdown",
   "id": "5dd394fa",
   "metadata": {},
   "source": []
  },
  {
   "cell_type": "markdown",
   "id": "adfdd9e5",
   "metadata": {},
   "source": []
  },
  {
   "cell_type": "markdown",
   "metadata": {},
   "source": []
  },
  {
   "cell_type": "markdown",
   "id": "18fe3960",
   "metadata": {
    "papermill": {
     "duration": 0.035865,
     "end_time": "2024-01-10T11:52:47.762929",
     "exception": false,
     "start_time": "2024-01-10T11:52:47.727064",
     "status": "completed"
    },
    "tags": []
   },
   "source": [
    "Original *param_grid* processed on faster machine:\n",
    "> param_grid = {\n",
    ">      'n_estimators': [100, 200, 300, 500],\n",
    ">      'max_depth': [None, 10, 20, 30],\n",
    ">      'min_samples_split': [2, 5, 10, 20],\n",
    ">      'min_samples_leaf': [1, 2, 4, 8],\n",
    ">      'max_features': ['sqrt', 'log2', None],\n",
    ">  }\n",
    "> \n",
    "\n",
    "> Best Parameters: {'max_depth': 10, 'max_features': None, 'min_samples_leaf': 1, 'min_samples_split': 10, 'n_estimators': 100}"
   ]
  },
  {
   "cell_type": "code",
   "execution_count": 26,
   "id": "53f5e429",
   "metadata": {
    "execution": {
     "iopub.execute_input": "2024-01-10T11:52:47.832003Z",
     "iopub.status.busy": "2024-01-10T11:52:47.831589Z",
     "iopub.status.idle": "2024-01-10T11:53:01.258417Z",
     "shell.execute_reply": "2024-01-10T11:53:01.256785Z"
    },
    "papermill": {
     "duration": 13.466178,
     "end_time": "2024-01-10T11:53:01.262037",
     "exception": false,
     "start_time": "2024-01-10T11:52:47.795859",
     "status": "completed"
    },
    "tags": []
   },
   "outputs": [
    {
     "data": {
      "text/html": [
       "<style>#sk-container-id-1 {color: black;background-color: white;}#sk-container-id-1 pre{padding: 0;}#sk-container-id-1 div.sk-toggleable {background-color: white;}#sk-container-id-1 label.sk-toggleable__label {cursor: pointer;display: block;width: 100%;margin-bottom: 0;padding: 0.3em;box-sizing: border-box;text-align: center;}#sk-container-id-1 label.sk-toggleable__label-arrow:before {content: \"▸\";float: left;margin-right: 0.25em;color: #696969;}#sk-container-id-1 label.sk-toggleable__label-arrow:hover:before {color: black;}#sk-container-id-1 div.sk-estimator:hover label.sk-toggleable__label-arrow:before {color: black;}#sk-container-id-1 div.sk-toggleable__content {max-height: 0;max-width: 0;overflow: hidden;text-align: left;background-color: #f0f8ff;}#sk-container-id-1 div.sk-toggleable__content pre {margin: 0.2em;color: black;border-radius: 0.25em;background-color: #f0f8ff;}#sk-container-id-1 input.sk-toggleable__control:checked~div.sk-toggleable__content {max-height: 200px;max-width: 100%;overflow: auto;}#sk-container-id-1 input.sk-toggleable__control:checked~label.sk-toggleable__label-arrow:before {content: \"▾\";}#sk-container-id-1 div.sk-estimator input.sk-toggleable__control:checked~label.sk-toggleable__label {background-color: #d4ebff;}#sk-container-id-1 div.sk-label input.sk-toggleable__control:checked~label.sk-toggleable__label {background-color: #d4ebff;}#sk-container-id-1 input.sk-hidden--visually {border: 0;clip: rect(1px 1px 1px 1px);clip: rect(1px, 1px, 1px, 1px);height: 1px;margin: -1px;overflow: hidden;padding: 0;position: absolute;width: 1px;}#sk-container-id-1 div.sk-estimator {font-family: monospace;background-color: #f0f8ff;border: 1px dotted black;border-radius: 0.25em;box-sizing: border-box;margin-bottom: 0.5em;}#sk-container-id-1 div.sk-estimator:hover {background-color: #d4ebff;}#sk-container-id-1 div.sk-parallel-item::after {content: \"\";width: 100%;border-bottom: 1px solid gray;flex-grow: 1;}#sk-container-id-1 div.sk-label:hover label.sk-toggleable__label {background-color: #d4ebff;}#sk-container-id-1 div.sk-serial::before {content: \"\";position: absolute;border-left: 1px solid gray;box-sizing: border-box;top: 0;bottom: 0;left: 50%;z-index: 0;}#sk-container-id-1 div.sk-serial {display: flex;flex-direction: column;align-items: center;background-color: white;padding-right: 0.2em;padding-left: 0.2em;position: relative;}#sk-container-id-1 div.sk-item {position: relative;z-index: 1;}#sk-container-id-1 div.sk-parallel {display: flex;align-items: stretch;justify-content: center;background-color: white;position: relative;}#sk-container-id-1 div.sk-item::before, #sk-container-id-1 div.sk-parallel-item::before {content: \"\";position: absolute;border-left: 1px solid gray;box-sizing: border-box;top: 0;bottom: 0;left: 50%;z-index: -1;}#sk-container-id-1 div.sk-parallel-item {display: flex;flex-direction: column;z-index: 1;position: relative;background-color: white;}#sk-container-id-1 div.sk-parallel-item:first-child::after {align-self: flex-end;width: 50%;}#sk-container-id-1 div.sk-parallel-item:last-child::after {align-self: flex-start;width: 50%;}#sk-container-id-1 div.sk-parallel-item:only-child::after {width: 0;}#sk-container-id-1 div.sk-dashed-wrapped {border: 1px dashed gray;margin: 0 0.4em 0.5em 0.4em;box-sizing: border-box;padding-bottom: 0.4em;background-color: white;}#sk-container-id-1 div.sk-label label {font-family: monospace;font-weight: bold;display: inline-block;line-height: 1.2em;}#sk-container-id-1 div.sk-label-container {text-align: center;}#sk-container-id-1 div.sk-container {/* jupyter's `normalize.less` sets `[hidden] { display: none; }` but bootstrap.min.css set `[hidden] { display: none !important; }` so we also need the `!important` here to be able to override the default hidden behavior on the sphinx rendered scikit-learn.org. See: https://github.com/scikit-learn/scikit-learn/issues/21755 */display: inline-block !important;position: relative;}#sk-container-id-1 div.sk-text-repr-fallback {display: none;}</style><div id=\"sk-container-id-1\" class=\"sk-top-container\"><div class=\"sk-text-repr-fallback\"><pre>GridSearchCV(cv=5, estimator=RandomForestClassifier(random_state=1), n_jobs=-1,\n",
       "             param_grid={&#x27;max_depth&#x27;: [10], &#x27;max_features&#x27;: [None],\n",
       "                         &#x27;min_samples_leaf&#x27;: [1], &#x27;min_samples_split&#x27;: [10],\n",
       "                         &#x27;n_estimators&#x27;: [100]},\n",
       "             scoring=&#x27;accuracy&#x27;)</pre><b>In a Jupyter environment, please rerun this cell to show the HTML representation or trust the notebook. <br />On GitHub, the HTML representation is unable to render, please try loading this page with nbviewer.org.</b></div><div class=\"sk-container\" hidden><div class=\"sk-item sk-dashed-wrapped\"><div class=\"sk-label-container\"><div class=\"sk-label sk-toggleable\"><input class=\"sk-toggleable__control sk-hidden--visually\" id=\"sk-estimator-id-1\" type=\"checkbox\" ><label for=\"sk-estimator-id-1\" class=\"sk-toggleable__label sk-toggleable__label-arrow\">GridSearchCV</label><div class=\"sk-toggleable__content\"><pre>GridSearchCV(cv=5, estimator=RandomForestClassifier(random_state=1), n_jobs=-1,\n",
       "             param_grid={&#x27;max_depth&#x27;: [10], &#x27;max_features&#x27;: [None],\n",
       "                         &#x27;min_samples_leaf&#x27;: [1], &#x27;min_samples_split&#x27;: [10],\n",
       "                         &#x27;n_estimators&#x27;: [100]},\n",
       "             scoring=&#x27;accuracy&#x27;)</pre></div></div></div><div class=\"sk-parallel\"><div class=\"sk-parallel-item\"><div class=\"sk-item\"><div class=\"sk-label-container\"><div class=\"sk-label sk-toggleable\"><input class=\"sk-toggleable__control sk-hidden--visually\" id=\"sk-estimator-id-2\" type=\"checkbox\" ><label for=\"sk-estimator-id-2\" class=\"sk-toggleable__label sk-toggleable__label-arrow\">estimator: RandomForestClassifier</label><div class=\"sk-toggleable__content\"><pre>RandomForestClassifier(random_state=1)</pre></div></div></div><div class=\"sk-serial\"><div class=\"sk-item\"><div class=\"sk-estimator sk-toggleable\"><input class=\"sk-toggleable__control sk-hidden--visually\" id=\"sk-estimator-id-3\" type=\"checkbox\" ><label for=\"sk-estimator-id-3\" class=\"sk-toggleable__label sk-toggleable__label-arrow\">RandomForestClassifier</label><div class=\"sk-toggleable__content\"><pre>RandomForestClassifier(random_state=1)</pre></div></div></div></div></div></div></div></div></div></div>"
      ],
      "text/plain": [
       "GridSearchCV(cv=5, estimator=RandomForestClassifier(random_state=1), n_jobs=-1,\n",
       "             param_grid={'max_depth': [10], 'max_features': [None],\n",
       "                         'min_samples_leaf': [1], 'min_samples_split': [10],\n",
       "                         'n_estimators': [100]},\n",
       "             scoring='accuracy')"
      ]
     },
     "execution_count": 26,
     "metadata": {},
     "output_type": "execute_result"
    }
   ],
   "source": [
    "param_grid = {\n",
    "    'n_estimators': [100, 200, 300, 500],\n",
    "    'max_depth': [None, 10, 20, 30],\n",
    "    'min_samples_split': [2, 5, 10, 20],\n",
    "    'min_samples_leaf': [1, 2, 4, 8],\n",
    "    'max_features': ['sqrt', 'log2', None],\n",
    "}\n",
    "\n",
    "#  Best parameters for RF\n",
    "rf_best_params = {\n",
    "    'n_estimators': [100],\n",
    "    'max_depth': [10],\n",
    "    'min_samples_split': [10],\n",
    "    'min_samples_leaf': [1],\n",
    "    'max_features': [None],\n",
    "}\n",
    "\n",
    "# Create grid search\n",
    "rf_gridsearch = GridSearchCV(estimator=rfModel,param_grid=rf_best_params, cv=5, scoring='accuracy',n_jobs=-1)\n",
    "\n",
    "# Fit grid search\n",
    "rf_gridsearch.fit(x_train, y_train)"
   ]
  },
  {
   "cell_type": "markdown",
   "id": "d3fbb551",
   "metadata": {
    "papermill": {
     "duration": 0.03864,
     "end_time": "2024-01-10T11:53:01.336526",
     "exception": false,
     "start_time": "2024-01-10T11:53:01.297886",
     "status": "completed"
    },
    "tags": []
   },
   "source": [
    "Get Best parameters and best estimator for RF from GridSearchCV"
   ]
  },
  {
   "cell_type": "code",
   "execution_count": 27,
   "id": "f289227a",
   "metadata": {
    "execution": {
     "iopub.execute_input": "2024-01-10T11:53:01.414949Z",
     "iopub.status.busy": "2024-01-10T11:53:01.414562Z",
     "iopub.status.idle": "2024-01-10T11:53:01.423438Z",
     "shell.execute_reply": "2024-01-10T11:53:01.422159Z"
    },
    "papermill": {
     "duration": 0.048016,
     "end_time": "2024-01-10T11:53:01.426022",
     "exception": false,
     "start_time": "2024-01-10T11:53:01.378006",
     "status": "completed"
    },
    "tags": []
   },
   "outputs": [
    {
     "name": "stdout",
     "output_type": "stream",
     "text": [
      "Best Parameters : {'max_depth': 10, 'max_features': None, 'min_samples_leaf': 1, 'min_samples_split': 10, 'n_estimators': 100}\n",
      "Best Estimator  : RandomForestClassifier(max_depth=10, max_features=None, min_samples_split=10,\n",
      "                       random_state=1)\n"
     ]
    }
   ],
   "source": [
    "best_params = rf_gridsearch.best_params_\n",
    "best_estimator = rf_gridsearch.best_estimator_\n",
    "\n",
    "print(f\"Best Parameters : {best_params}\")\n",
    "print(f\"Best Estimator  : {best_estimator}\")"
   ]
  },
  {
   "cell_type": "markdown",
   "id": "d06c33d4",
   "metadata": {
    "papermill": {
     "duration": 0.041847,
     "end_time": "2024-01-10T11:53:01.506156",
     "exception": false,
     "start_time": "2024-01-10T11:53:01.464309",
     "status": "completed"
    },
    "tags": []
   },
   "source": [
    "Make prediction using best estimator"
   ]
  },
  {
   "cell_type": "code",
   "execution_count": 28,
   "id": "171caddc",
   "metadata": {
    "execution": {
     "iopub.execute_input": "2024-01-10T11:53:01.602847Z",
     "iopub.status.busy": "2024-01-10T11:53:01.601916Z",
     "iopub.status.idle": "2024-01-10T11:53:01.769319Z",
     "shell.execute_reply": "2024-01-10T11:53:01.767493Z"
    },
    "papermill": {
     "duration": 0.222345,
     "end_time": "2024-01-10T11:53:01.772472",
     "exception": false,
     "start_time": "2024-01-10T11:53:01.550127",
     "status": "completed"
    },
    "tags": []
   },
   "outputs": [],
   "source": [
    "rf_pred_CV = best_estimator.predict(x_test)"
   ]
  },
  {
   "cell_type": "markdown",
   "id": "2fa203c2",
   "metadata": {
    "papermill": {
     "duration": 0.033951,
     "end_time": "2024-01-10T11:53:01.839630",
     "exception": false,
     "start_time": "2024-01-10T11:53:01.805679",
     "status": "completed"
    },
    "tags": []
   },
   "source": [
    "Accuracy"
   ]
  },
  {
   "cell_type": "code",
   "execution_count": 29,
   "id": "4b6ad2e5",
   "metadata": {
    "execution": {
     "iopub.execute_input": "2024-01-10T11:53:01.920606Z",
     "iopub.status.busy": "2024-01-10T11:53:01.919694Z",
     "iopub.status.idle": "2024-01-10T11:53:01.929370Z",
     "shell.execute_reply": "2024-01-10T11:53:01.927783Z"
    },
    "papermill": {
     "duration": 0.048485,
     "end_time": "2024-01-10T11:53:01.932028",
     "exception": false,
     "start_time": "2024-01-10T11:53:01.883543",
     "status": "completed"
    },
    "tags": []
   },
   "outputs": [
    {
     "name": "stdout",
     "output_type": "stream",
     "text": [
      "Best Accuracy: 87.82\n"
     ]
    }
   ],
   "source": [
    "rf_accuracy_cv = metrics.accuracy_score(y_test, rf_pred_CV)*100\n",
    "print(f\"Best Accuracy: {rf_accuracy_cv:.2f}\")"
   ]
  },
  {
   "cell_type": "markdown",
   "id": "3d604d41",
   "metadata": {
    "papermill": {
     "duration": 0.042187,
     "end_time": "2024-01-10T11:53:02.011046",
     "exception": false,
     "start_time": "2024-01-10T11:53:01.968859",
     "status": "completed"
    },
    "tags": []
   },
   "source": [
    "**Random Forest** Accuracy Scores"
   ]
  },
  {
   "cell_type": "code",
   "execution_count": 30,
   "id": "0a676142",
   "metadata": {
    "execution": {
     "iopub.execute_input": "2024-01-10T11:53:02.082361Z",
     "iopub.status.busy": "2024-01-10T11:53:02.081966Z",
     "iopub.status.idle": "2024-01-10T11:53:02.089125Z",
     "shell.execute_reply": "2024-01-10T11:53:02.087158Z"
    },
    "papermill": {
     "duration": 0.046792,
     "end_time": "2024-01-10T11:53:02.093474",
     "exception": false,
     "start_time": "2024-01-10T11:53:02.046682",
     "status": "completed"
    },
    "tags": []
   },
   "outputs": [
    {
     "name": "stdout",
     "output_type": "stream",
     "text": [
      "Random Forest accuracy without CV : 87.49\n",
      "Random Forest accuracy with CV    : 87.82\n"
     ]
    }
   ],
   "source": [
    "print(f\"Random Forest accuracy without CV : {rf_accuracy:.2f}\")\n",
    "print(f\"Random Forest accuracy with CV    : {rf_accuracy_cv:.2f}\")"
   ]
  },
  {
   "cell_type": "markdown",
   "id": "a556185b",
   "metadata": {
    "papermill": {
     "duration": 0.034777,
     "end_time": "2024-01-10T11:53:02.165391",
     "exception": false,
     "start_time": "2024-01-10T11:53:02.130614",
     "status": "completed"
    },
    "tags": []
   },
   "source": [
    "**Classification Report**"
   ]
  },
  {
   "cell_type": "code",
   "execution_count": 31,
   "id": "e2ad83d4",
   "metadata": {
    "execution": {
     "iopub.execute_input": "2024-01-10T11:53:02.236095Z",
     "iopub.status.busy": "2024-01-10T11:53:02.235014Z",
     "iopub.status.idle": "2024-01-10T11:53:02.278969Z",
     "shell.execute_reply": "2024-01-10T11:53:02.276786Z"
    },
    "papermill": {
     "duration": 0.084059,
     "end_time": "2024-01-10T11:53:02.282533",
     "exception": false,
     "start_time": "2024-01-10T11:53:02.198474",
     "status": "completed"
    },
    "tags": []
   },
   "outputs": [
    {
     "name": "stdout",
     "output_type": "stream",
     "text": [
      "Classification Report for RF with CV:\n",
      "               precision    recall  f1-score   support\n",
      "\n",
      "           0     0.8837    0.8804    0.8820      6220\n",
      "           1     0.8724    0.8759    0.8742      5809\n",
      "\n",
      "    accuracy                         0.8782     12029\n",
      "   macro avg     0.8780    0.8781    0.8781     12029\n",
      "weighted avg     0.8782    0.8782    0.8782     12029\n",
      "\n"
     ]
    }
   ],
   "source": [
    "classification_report_str = classification_report(y_test, rf_pred_CV, digits=4)\n",
    "\n",
    "print(\"Classification Report for RF with CV:\\n\", classification_report_str)"
   ]
  },
  {
   "cell_type": "markdown",
   "id": "d372e20e",
   "metadata": {
    "papermill": {
     "duration": 0.035422,
     "end_time": "2024-01-10T11:53:02.361012",
     "exception": false,
     "start_time": "2024-01-10T11:53:02.325590",
     "status": "completed"
    },
    "tags": []
   },
   "source": [
    "# **MLP**"
   ]
  },
  {
   "cell_type": "markdown",
   "id": "2967b3d3",
   "metadata": {
    "papermill": {
     "duration": 0.034178,
     "end_time": "2024-01-10T11:53:02.429908",
     "exception": false,
     "start_time": "2024-01-10T11:53:02.395730",
     "status": "completed"
    },
    "tags": []
   },
   "source": [
    "Without CV"
   ]
  },
  {
   "cell_type": "code",
   "execution_count": null,
   "id": "47f78b8a",
   "metadata": {},
   "outputs": [],
   "source": []
  },
  {
   "cell_type": "code",
   "execution_count": null,
   "metadata": {},
   "outputs": [],
   "source": []
  },
  {
   "cell_type": "code",
   "execution_count": 32,
   "id": "159ef28d",
   "metadata": {
    "execution": {
     "iopub.execute_input": "2024-01-10T11:53:02.507738Z",
     "iopub.status.busy": "2024-01-10T11:53:02.506453Z",
     "iopub.status.idle": "2024-01-10T11:54:54.727390Z",
     "shell.execute_reply": "2024-01-10T11:54:54.725912Z"
    },
    "papermill": {
     "duration": 112.343055,
     "end_time": "2024-01-10T11:54:54.813020",
     "exception": false,
     "start_time": "2024-01-10T11:53:02.469965",
     "status": "completed"
    },
    "tags": []
   },
   "outputs": [
    {
     "name": "stdout",
     "output_type": "stream",
     "text": [
      "Accuracy without CV: 87.28\n"
     ]
    },
    {
     "name": "stderr",
     "output_type": "stream",
     "text": [
      "/opt/conda/lib/python3.10/site-packages/sklearn/neural_network/_multilayer_perceptron.py:686: ConvergenceWarning: Stochastic Optimizer: Maximum iterations (200) reached and the optimization hasn't converged yet.\n",
      "  warnings.warn(\n"
     ]
    }
   ],
   "source": [
    "# build MLP modelWithout CV\n",
    "mlpModel = MLPClassifier(random_state=1)\n",
    "\n",
    "# Fit the model\n",
    "mlpModel.fit(x_train, y_train)\n",
    "\n",
    "# Make predictions\n",
    "mlp_pred = mlpModel.predict(x_test)\n",
    "\n",
    "# accuracy\n",
    "mlp_accuracy = metrics.accuracy_score(y_test, mlp_pred)*100\n",
    "print(f\"Accuracy without CV: {mlp_accuracy:.2f}\")"
   ]
  },
  {
   "cell_type": "code",
   "execution_count": 33,
   "id": "f3b6a419",
   "metadata": {
    "execution": {
     "iopub.execute_input": "2024-01-10T11:54:54.897640Z",
     "iopub.status.busy": "2024-01-10T11:54:54.897184Z",
     "iopub.status.idle": "2024-01-10T12:00:55.867671Z",
     "shell.execute_reply": "2024-01-10T12:00:55.866292Z"
    },
    "papermill": {
     "duration": 361.077456,
     "end_time": "2024-01-10T12:00:55.938465",
     "exception": false,
     "start_time": "2024-01-10T11:54:54.861009",
     "status": "completed"
    },
    "tags": []
   },
   "outputs": [
    {
     "data": {
      "text/html": [
       "<style>#sk-container-id-2 {color: black;background-color: white;}#sk-container-id-2 pre{padding: 0;}#sk-container-id-2 div.sk-toggleable {background-color: white;}#sk-container-id-2 label.sk-toggleable__label {cursor: pointer;display: block;width: 100%;margin-bottom: 0;padding: 0.3em;box-sizing: border-box;text-align: center;}#sk-container-id-2 label.sk-toggleable__label-arrow:before {content: \"▸\";float: left;margin-right: 0.25em;color: #696969;}#sk-container-id-2 label.sk-toggleable__label-arrow:hover:before {color: black;}#sk-container-id-2 div.sk-estimator:hover label.sk-toggleable__label-arrow:before {color: black;}#sk-container-id-2 div.sk-toggleable__content {max-height: 0;max-width: 0;overflow: hidden;text-align: left;background-color: #f0f8ff;}#sk-container-id-2 div.sk-toggleable__content pre {margin: 0.2em;color: black;border-radius: 0.25em;background-color: #f0f8ff;}#sk-container-id-2 input.sk-toggleable__control:checked~div.sk-toggleable__content {max-height: 200px;max-width: 100%;overflow: auto;}#sk-container-id-2 input.sk-toggleable__control:checked~label.sk-toggleable__label-arrow:before {content: \"▾\";}#sk-container-id-2 div.sk-estimator input.sk-toggleable__control:checked~label.sk-toggleable__label {background-color: #d4ebff;}#sk-container-id-2 div.sk-label input.sk-toggleable__control:checked~label.sk-toggleable__label {background-color: #d4ebff;}#sk-container-id-2 input.sk-hidden--visually {border: 0;clip: rect(1px 1px 1px 1px);clip: rect(1px, 1px, 1px, 1px);height: 1px;margin: -1px;overflow: hidden;padding: 0;position: absolute;width: 1px;}#sk-container-id-2 div.sk-estimator {font-family: monospace;background-color: #f0f8ff;border: 1px dotted black;border-radius: 0.25em;box-sizing: border-box;margin-bottom: 0.5em;}#sk-container-id-2 div.sk-estimator:hover {background-color: #d4ebff;}#sk-container-id-2 div.sk-parallel-item::after {content: \"\";width: 100%;border-bottom: 1px solid gray;flex-grow: 1;}#sk-container-id-2 div.sk-label:hover label.sk-toggleable__label {background-color: #d4ebff;}#sk-container-id-2 div.sk-serial::before {content: \"\";position: absolute;border-left: 1px solid gray;box-sizing: border-box;top: 0;bottom: 0;left: 50%;z-index: 0;}#sk-container-id-2 div.sk-serial {display: flex;flex-direction: column;align-items: center;background-color: white;padding-right: 0.2em;padding-left: 0.2em;position: relative;}#sk-container-id-2 div.sk-item {position: relative;z-index: 1;}#sk-container-id-2 div.sk-parallel {display: flex;align-items: stretch;justify-content: center;background-color: white;position: relative;}#sk-container-id-2 div.sk-item::before, #sk-container-id-2 div.sk-parallel-item::before {content: \"\";position: absolute;border-left: 1px solid gray;box-sizing: border-box;top: 0;bottom: 0;left: 50%;z-index: -1;}#sk-container-id-2 div.sk-parallel-item {display: flex;flex-direction: column;z-index: 1;position: relative;background-color: white;}#sk-container-id-2 div.sk-parallel-item:first-child::after {align-self: flex-end;width: 50%;}#sk-container-id-2 div.sk-parallel-item:last-child::after {align-self: flex-start;width: 50%;}#sk-container-id-2 div.sk-parallel-item:only-child::after {width: 0;}#sk-container-id-2 div.sk-dashed-wrapped {border: 1px dashed gray;margin: 0 0.4em 0.5em 0.4em;box-sizing: border-box;padding-bottom: 0.4em;background-color: white;}#sk-container-id-2 div.sk-label label {font-family: monospace;font-weight: bold;display: inline-block;line-height: 1.2em;}#sk-container-id-2 div.sk-label-container {text-align: center;}#sk-container-id-2 div.sk-container {/* jupyter's `normalize.less` sets `[hidden] { display: none; }` but bootstrap.min.css set `[hidden] { display: none !important; }` so we also need the `!important` here to be able to override the default hidden behavior on the sphinx rendered scikit-learn.org. See: https://github.com/scikit-learn/scikit-learn/issues/21755 */display: inline-block !important;position: relative;}#sk-container-id-2 div.sk-text-repr-fallback {display: none;}</style><div id=\"sk-container-id-2\" class=\"sk-top-container\"><div class=\"sk-text-repr-fallback\"><pre>GridSearchCV(cv=5, estimator=MLPClassifier(random_state=1), n_jobs=-1,\n",
       "             param_grid={&#x27;activation&#x27;: [&#x27;tanh&#x27;], &#x27;alpha&#x27;: [0.01],\n",
       "                         &#x27;hidden_layer_sizes&#x27;: [(50, 50)], &#x27;max_iter&#x27;: [300],\n",
       "                         &#x27;solver&#x27;: [&#x27;adam&#x27;]},\n",
       "             scoring=&#x27;accuracy&#x27;)</pre><b>In a Jupyter environment, please rerun this cell to show the HTML representation or trust the notebook. <br />On GitHub, the HTML representation is unable to render, please try loading this page with nbviewer.org.</b></div><div class=\"sk-container\" hidden><div class=\"sk-item sk-dashed-wrapped\"><div class=\"sk-label-container\"><div class=\"sk-label sk-toggleable\"><input class=\"sk-toggleable__control sk-hidden--visually\" id=\"sk-estimator-id-4\" type=\"checkbox\" ><label for=\"sk-estimator-id-4\" class=\"sk-toggleable__label sk-toggleable__label-arrow\">GridSearchCV</label><div class=\"sk-toggleable__content\"><pre>GridSearchCV(cv=5, estimator=MLPClassifier(random_state=1), n_jobs=-1,\n",
       "             param_grid={&#x27;activation&#x27;: [&#x27;tanh&#x27;], &#x27;alpha&#x27;: [0.01],\n",
       "                         &#x27;hidden_layer_sizes&#x27;: [(50, 50)], &#x27;max_iter&#x27;: [300],\n",
       "                         &#x27;solver&#x27;: [&#x27;adam&#x27;]},\n",
       "             scoring=&#x27;accuracy&#x27;)</pre></div></div></div><div class=\"sk-parallel\"><div class=\"sk-parallel-item\"><div class=\"sk-item\"><div class=\"sk-label-container\"><div class=\"sk-label sk-toggleable\"><input class=\"sk-toggleable__control sk-hidden--visually\" id=\"sk-estimator-id-5\" type=\"checkbox\" ><label for=\"sk-estimator-id-5\" class=\"sk-toggleable__label sk-toggleable__label-arrow\">estimator: MLPClassifier</label><div class=\"sk-toggleable__content\"><pre>MLPClassifier(random_state=1)</pre></div></div></div><div class=\"sk-serial\"><div class=\"sk-item\"><div class=\"sk-estimator sk-toggleable\"><input class=\"sk-toggleable__control sk-hidden--visually\" id=\"sk-estimator-id-6\" type=\"checkbox\" ><label for=\"sk-estimator-id-6\" class=\"sk-toggleable__label sk-toggleable__label-arrow\">MLPClassifier</label><div class=\"sk-toggleable__content\"><pre>MLPClassifier(random_state=1)</pre></div></div></div></div></div></div></div></div></div></div>"
      ],
      "text/plain": [
       "GridSearchCV(cv=5, estimator=MLPClassifier(random_state=1), n_jobs=-1,\n",
       "             param_grid={'activation': ['tanh'], 'alpha': [0.01],\n",
       "                         'hidden_layer_sizes': [(50, 50)], 'max_iter': [300],\n",
       "                         'solver': ['adam']},\n",
       "             scoring='accuracy')"
      ]
     },
     "execution_count": 33,
     "metadata": {},
     "output_type": "execute_result"
    }
   ],
   "source": [
    "# mlp_params = {\n",
    "#     'hidden_layer_sizes': [(100,), (50, 50), (100, 50, 25)],\n",
    "#     'activation': ['relu', 'tanh'],\n",
    "#     'solver': ['adam'],\n",
    "#     'max_iter': [100, 200, 300],\n",
    "#     'alpha': [0.0001, 0.001, 0.01],\n",
    "# }\n",
    "\n",
    "# Best parameters for MLP\n",
    "mlp_best_params = {\n",
    "    'activation': ['tanh'],\n",
    "    'alpha': [0.01],\n",
    "    'hidden_layer_sizes': [(50, 50)],\n",
    "    'max_iter': [300],\n",
    "    'solver': ['adam'],\n",
    "}\n",
    "\n",
    "# Create grid search\n",
    "mlp_gridsearch = GridSearchCV(estimator=mlpModel, param_grid=mlp_best_params, cv=5, scoring='accuracy', n_jobs=-1)\n",
    "\n",
    "# Fit grid search\n",
    "mlp_gridsearch.fit(x_train, y_train)"
   ]
  },
  {
   "cell_type": "markdown",
   "id": "cff5b015",
   "metadata": {
    "papermill": {
     "duration": 0.04396,
     "end_time": "2024-01-10T12:00:56.044930",
     "exception": false,
     "start_time": "2024-01-10T12:00:56.000970",
     "status": "completed"
    },
    "tags": []
   },
   "source": [
    "Get Best parameters and best estimator for MLP from GridSearchCV"
   ]
  },
  {
   "cell_type": "code",
   "execution_count": 34,
   "id": "9ab7aad2",
   "metadata": {
    "execution": {
     "iopub.execute_input": "2024-01-10T12:00:56.118223Z",
     "iopub.status.busy": "2024-01-10T12:00:56.117474Z",
     "iopub.status.idle": "2024-01-10T12:00:56.125605Z",
     "shell.execute_reply": "2024-01-10T12:00:56.124289Z"
    },
    "papermill": {
     "duration": 0.048894,
     "end_time": "2024-01-10T12:00:56.129319",
     "exception": false,
     "start_time": "2024-01-10T12:00:56.080425",
     "status": "completed"
    },
    "tags": []
   },
   "outputs": [
    {
     "name": "stdout",
     "output_type": "stream",
     "text": [
      "Best Parameters : {'activation': ['tanh'], 'alpha': [0.01], 'hidden_layer_sizes': [(50, 50)], 'max_iter': [300], 'solver': ['adam']}\n",
      "Best Estimator  : MLPClassifier(activation='tanh', alpha=0.01, hidden_layer_sizes=(50, 50),\n",
      "              max_iter=300, random_state=1)\n"
     ]
    }
   ],
   "source": [
    "# mlp_best_params = mlp_gridsearch.best_params_\n",
    "mlp_best_estimator = mlp_gridsearch.best_estimator_\n",
    "\n",
    "print(f\"Best Parameters : {mlp_best_params}\")\n",
    "print(f\"Best Estimator  : {mlp_best_estimator}\")"
   ]
  },
  {
   "cell_type": "markdown",
   "id": "df4e9a85",
   "metadata": {
    "papermill": {
     "duration": 0.033181,
     "end_time": "2024-01-10T12:00:56.196476",
     "exception": false,
     "start_time": "2024-01-10T12:00:56.163295",
     "status": "completed"
    },
    "tags": []
   },
   "source": [
    "Make prediction using best estimator"
   ]
  },
  {
   "cell_type": "code",
   "execution_count": 35,
   "id": "834c2a5c",
   "metadata": {
    "execution": {
     "iopub.execute_input": "2024-01-10T12:00:56.266438Z",
     "iopub.status.busy": "2024-01-10T12:00:56.265948Z",
     "iopub.status.idle": "2024-01-10T12:00:56.400256Z",
     "shell.execute_reply": "2024-01-10T12:00:56.398591Z"
    },
    "papermill": {
     "duration": 0.17572,
     "end_time": "2024-01-10T12:00:56.405284",
     "exception": false,
     "start_time": "2024-01-10T12:00:56.229564",
     "status": "completed"
    },
    "tags": []
   },
   "outputs": [],
   "source": [
    "mlp_pred_CV = mlp_best_estimator.predict(x_test)"
   ]
  },
  {
   "cell_type": "markdown",
   "id": "e1cb9440",
   "metadata": {
    "papermill": {
     "duration": 0.055399,
     "end_time": "2024-01-10T12:00:56.533630",
     "exception": false,
     "start_time": "2024-01-10T12:00:56.478231",
     "status": "completed"
    },
    "tags": []
   },
   "source": [
    "Accuracy"
   ]
  },
  {
   "cell_type": "code",
   "execution_count": 36,
   "id": "3aade7dd",
   "metadata": {
    "execution": {
     "iopub.execute_input": "2024-01-10T12:00:56.603929Z",
     "iopub.status.busy": "2024-01-10T12:00:56.603502Z",
     "iopub.status.idle": "2024-01-10T12:00:56.614863Z",
     "shell.execute_reply": "2024-01-10T12:00:56.612590Z"
    },
    "papermill": {
     "duration": 0.051315,
     "end_time": "2024-01-10T12:00:56.618459",
     "exception": false,
     "start_time": "2024-01-10T12:00:56.567144",
     "status": "completed"
    },
    "tags": []
   },
   "outputs": [
    {
     "name": "stdout",
     "output_type": "stream",
     "text": [
      "Best Accuracy: 87.77\n"
     ]
    }
   ],
   "source": [
    "mlp_accuracy_cv = metrics.accuracy_score(y_test, mlp_pred_CV)*100Accuracy\n",
    "print(f\"Best Accuracy: {mlp_accuracy_cv:.2f}\")"
   ]
  },
  {
   "cell_type": "markdown",
   "id": "a7fdacff",
   "metadata": {
    "papermill": {
     "duration": 0.034027,
     "end_time": "2024-01-10T12:00:56.686674",
     "exception": false,
     "start_time": "2024-01-10T12:00:56.652647",
     "status": "completed"
    },
    "tags": []
   },
   "source": [
    "**MLP** Accuracy Scores"
   ]
  },
  {
   "cell_type": "code",
   "execution_count": 37,
   "id": "4d7fe865",
   "metadata": {
    "execution": {
     "iopub.execute_input": "2024-01-10T12:00:56.762647Z",
     "iopub.status.busy": "2024-01-10T12:00:56.761439Z",
     "iopub.status.idle": "2024-01-10T12:00:56.768775Z",
     "shell.execute_reply": "2024-01-10T12:00:56.767336Z"
    },
    "papermill": {
     "duration": 0.047247,
     "end_time": "2024-01-10T12:00:56.771478",
     "exception": false,
     "start_time": "2024-01-10T12:00:56.724231",
     "status": "completed"
    },
    "tags": []
   },
   "outputs": [
    {
     "name": "stdout",
     "output_type": "stream",
     "text": [
      "MLP accuracy without CV : 87.28\n",
      "MLP accuracy with CV    : 87.77\n"
     ]
    }
   ],
   "source": [
    "print(f\"MLP accuracy without CV : {mlp_accuracy:.2f}\")\n",
    "print(f\"MLP accuracy with CV    : {mlp_accuracy_cv:.2f}\")"
   ]
  },
  {
   "cell_type": "markdown",
   "id": "8b402c40",
   "metadata": {
    "papermill": {
     "duration": 0.034264,
     "end_time": "2024-01-10T12:00:56.840651",
     "exception": false,
     "start_time": "2024-01-10T12:00:56.806387",
     "status": "completed"
    },
    "tags": []
   },
   "source": [
    "**Classification Report**"
   ]
  },
  {
   "cell_type": "code",
   "execution_count": null,
   "id": "3a379ff4",
   "metadata": {},
   "outputs": [],
   "source": []
  },
  {
   "cell_type": "code",
   "execution_count": 38,
   "id": "9408717d",
   "metadata": {
    "execution": {
     "iopub.execute_input": "2024-01-10T12:00:56.912686Z",
     "iopub.status.busy": "2024-01-10T12:00:56.911548Z",
     "iopub.status.idle": "2024-01-10T12:00:56.949730Z",
     "shell.execute_reply": "2024-01-10T12:00:56.948065Z"
    },
    "papermill": {
     "duration": 0.07859,
     "end_time": "2024-01-10T12:00:56.952864",
     "exception": false,
     "start_time": "2024-01-10T12:00:56.874274",
     "status": "completed"
    },
    "tags": []
   },
   "outputs": [
    {
     "name": "stdout",
     "output_type": "stream",
     "text": [
      "Classification Report for MLP with CV:\n",
      "               precision    recall  f1-score   support\n",
      "\n",
      "           0     0.8875    0.8743    0.8809      6220\n",
      "           1     0.8675    0.8814    0.8744      5809\n",
      "\n",
      "    accuracy                         0.8777     12029\n",
      "   macro avg     0.8775    0.8778    0.8776     12029\n",
      "weighted avg     0.8779    0.8777    0.8777     12029\n",
      "\n"
     ]
    }
   ],
   "source": [
    "classification_report_str = classification_report(y_test, mlp_pred_CV, digits=4)\n",
    "\n",
    "print(\"Classification Report for MLP with CV:\\n\", classification_report_str)"
   ]
  },
  {
   "cell_type": "markdown",
   "id": "e39eaa66",
   "metadata": {
    "papermill": {
     "duration": 0.034434,
     "end_time": "2024-01-10T12:00:57.021026",
     "exception": false,
     "start_time": "2024-01-10T12:00:56.986592",
     "status": "completed"
    },
    "tags": []
   },
   "source": [
    "# **SVM**"
   ]
  },
  {
   "cell_type": "markdown",
   "id": "968b069a",
   "metadata": {
    "papermill": {
     "duration": 0.033247,
     "end_time": "2024-01-10T12:00:57.089846",
     "exception": false,
     "start_time": "2024-01-10T12:00:57.056599",
     "status": "completed"
    },
    "tags": []
   },
   "source": [
    "Without CV"
   ]
  },
  {
   "cell_type": "code",
   "execution_count": 39,
   "id": "49bbecc0",
   "metadata": {
    "execution": {
     "iopub.execute_input": "2024-01-10T12:00:57.166455Z",
     "iopub.status.busy": "2024-01-10T12:00:57.166004Z",
     "iopub.status.idle": "2024-01-10T12:01:50.423585Z",
     "shell.execute_reply": "2024-01-10T12:01:50.421452Z"
    },
    "papermill": {
     "duration": 53.375229,
     "end_time": "2024-01-10T12:01:50.502673",
     "exception": false,
     "start_time": "2024-01-10T12:00:57.127444",
     "status": "completed"
    },
    "tags": []
   },
   "outputs": [
    {
     "name": "stdout",
     "output_type": "stream",
     "text": [
      "Accuracy without CV: 87.28\n"
     ]
    }
   ],
   "source": [
    "#Without CV build SVM model\n",
    "svmModel = SVC(random_state=1)\n",
    "\n",
    "# Fit the model\n",
    "svmModel.fit(x_train, y_train)\n",
    "\n",
    "# Make predictions\n",
    "svm_pred = mlpModel.predict(x_test)\n",
    "\n",
    "# accuracy\n",
    "svm_accuracy = metrics.accuracy_score(y_test, svm_pred)*100\n",
    "print(f\"Accuracy without CV: {svm_accuracy:.2f}\")"
   ]
  },
  {
   "cell_type": "code",
   "execution_count": 40,
   "id": "b0fcfd9f",
   "metadata": {
    "execution": {
     "iopub.execute_input": "2024-01-10T12:01:50.591157Z",
     "iopub.status.busy": "2024-01-10T12:01:50.590723Z",
     "iopub.status.idle": "2024-01-10T12:05:35.403330Z",
     "shell.execute_reply": "2024-01-10T12:05:35.402180Z"
    },
    "papermill": {
     "duration": 224.884141,
     "end_time": "2024-01-10T12:05:35.439931",
     "exception": false,
     "start_time": "2024-01-10T12:01:50.555790",
     "status": "completed"
    },
    "tags": []
   },
   "outputs": [
    {
     "data": {
      "text/html": [
       "<style>#sk-container-id-3 {color: black;background-color: white;}#sk-container-id-3 pre{padding: 0;}#sk-container-id-3 div.sk-toggleable {background-color: white;}#sk-container-id-3 label.sk-toggleable__label {cursor: pointer;display: block;width: 100%;margin-bottom: 0;padding: 0.3em;box-sizing: border-box;text-align: center;}#sk-container-id-3 label.sk-toggleable__label-arrow:before {content: \"▸\";float: left;margin-right: 0.25em;color: #696969;}#sk-container-id-3 label.sk-toggleable__label-arrow:hover:before {color: black;}#sk-container-id-3 div.sk-estimator:hover label.sk-toggleable__label-arrow:before {color: black;}#sk-container-id-3 div.sk-toggleable__content {max-height: 0;max-width: 0;overflow: hidden;text-align: left;background-color: #f0f8ff;}#sk-container-id-3 div.sk-toggleable__content pre {margin: 0.2em;color: black;border-radius: 0.25em;background-color: #f0f8ff;}#sk-container-id-3 input.sk-toggleable__control:checked~div.sk-toggleable__content {max-height: 200px;max-width: 100%;overflow: auto;}#sk-container-id-3 input.sk-toggleable__control:checked~label.sk-toggleable__label-arrow:before {content: \"▾\";}#sk-container-id-3 div.sk-estimator input.sk-toggleable__control:checked~label.sk-toggleable__label {background-color: #d4ebff;}#sk-container-id-3 div.sk-label input.sk-toggleable__control:checked~label.sk-toggleable__label {background-color: #d4ebff;}#sk-container-id-3 input.sk-hidden--visually {border: 0;clip: rect(1px 1px 1px 1px);clip: rect(1px, 1px, 1px, 1px);height: 1px;margin: -1px;overflow: hidden;padding: 0;position: absolute;width: 1px;}#sk-container-id-3 div.sk-estimator {font-family: monospace;background-color: #f0f8ff;border: 1px dotted black;border-radius: 0.25em;box-sizing: border-box;margin-bottom: 0.5em;}#sk-container-id-3 div.sk-estimator:hover {background-color: #d4ebff;}#sk-container-id-3 div.sk-parallel-item::after {content: \"\";width: 100%;border-bottom: 1px solid gray;flex-grow: 1;}#sk-container-id-3 div.sk-label:hover label.sk-toggleable__label {background-color: #d4ebff;}#sk-container-id-3 div.sk-serial::before {content: \"\";position: absolute;border-left: 1px solid gray;box-sizing: border-box;top: 0;bottom: 0;left: 50%;z-index: 0;}#sk-container-id-3 div.sk-serial {display: flex;flex-direction: column;align-items: center;background-color: white;padding-right: 0.2em;padding-left: 0.2em;position: relative;}#sk-container-id-3 div.sk-item {position: relative;z-index: 1;}#sk-container-id-3 div.sk-parallel {display: flex;align-items: stretch;justify-content: center;background-color: white;position: relative;}#sk-container-id-3 div.sk-item::before, #sk-container-id-3 div.sk-parallel-item::before {content: \"\";position: absolute;border-left: 1px solid gray;box-sizing: border-box;top: 0;bottom: 0;left: 50%;z-index: -1;}#sk-container-id-3 div.sk-parallel-item {display: flex;flex-direction: column;z-index: 1;position: relative;background-color: white;}#sk-container-id-3 div.sk-parallel-item:first-child::after {align-self: flex-end;width: 50%;}#sk-container-id-3 div.sk-parallel-item:last-child::after {align-self: flex-start;width: 50%;}#sk-container-id-3 div.sk-parallel-item:only-child::after {width: 0;}#sk-container-id-3 div.sk-dashed-wrapped {border: 1px dashed gray;margin: 0 0.4em 0.5em 0.4em;box-sizing: border-box;padding-bottom: 0.4em;background-color: white;}#sk-container-id-3 div.sk-label label {font-family: monospace;font-weight: bold;display: inline-block;line-height: 1.2em;}#sk-container-id-3 div.sk-label-container {text-align: center;}#sk-container-id-3 div.sk-container {/* jupyter's `normalize.less` sets `[hidden] { display: none; }` but bootstrap.min.css set `[hidden] { display: none !important; }` so we also need the `!important` here to be able to override the default hidden behavior on the sphinx rendered scikit-learn.org. See: https://github.com/scikit-learn/scikit-learn/issues/21755 */display: inline-block !important;position: relative;}#sk-container-id-3 div.sk-text-repr-fallback {display: none;}</style><div id=\"sk-container-id-3\" class=\"sk-top-container\"><div class=\"sk-text-repr-fallback\"><pre>GridSearchCV(cv=5, estimator=SVC(random_state=1), n_jobs=-1,\n",
       "             param_grid={&#x27;C&#x27;: [10], &#x27;gamma&#x27;: [&#x27;auto&#x27;], &#x27;kernel&#x27;: [&#x27;rbf&#x27;]},\n",
       "             scoring=&#x27;accuracy&#x27;)</pre><b>In a Jupyter environment, please rerun this cell to show the HTML representation or trust the notebook. <br />On GitHub, the HTML representation is unable to render, please try loading this page with nbviewer.org.</b></div><div class=\"sk-container\" hidden><div class=\"sk-item sk-dashed-wrapped\"><div class=\"sk-label-container\"><div class=\"sk-label sk-toggleable\"><input class=\"sk-toggleable__control sk-hidden--visually\" id=\"sk-estimator-id-7\" type=\"checkbox\" ><label for=\"sk-estimator-id-7\" class=\"sk-toggleable__label sk-toggleable__label-arrow\">GridSearchCV</label><div class=\"sk-toggleable__content\"><pre>GridSearchCV(cv=5, estimator=SVC(random_state=1), n_jobs=-1,\n",
       "             param_grid={&#x27;C&#x27;: [10], &#x27;gamma&#x27;: [&#x27;auto&#x27;], &#x27;kernel&#x27;: [&#x27;rbf&#x27;]},\n",
       "             scoring=&#x27;accuracy&#x27;)</pre></div></div></div><div class=\"sk-parallel\"><div class=\"sk-parallel-item\"><div class=\"sk-item\"><div class=\"sk-label-container\"><div class=\"sk-label sk-toggleable\"><input class=\"sk-toggleable__control sk-hidden--visually\" id=\"sk-estimator-id-8\" type=\"checkbox\" ><label for=\"sk-estimator-id-8\" class=\"sk-toggleable__label sk-toggleable__label-arrow\">estimator: SVC</label><div class=\"sk-toggleable__content\"><pre>SVC(random_state=1)</pre></div></div></div><div class=\"sk-serial\"><div class=\"sk-item\"><div class=\"sk-estimator sk-toggleable\"><input class=\"sk-toggleable__control sk-hidden--visually\" id=\"sk-estimator-id-9\" type=\"checkbox\" ><label for=\"sk-estimator-id-9\" class=\"sk-toggleable__label sk-toggleable__label-arrow\">SVC</label><div class=\"sk-toggleable__content\"><pre>SVC(random_state=1)</pre></div></div></div></div></div></div></div></div></div></div>"
      ],
      "text/plain": [
       "GridSearchCV(cv=5, estimator=SVC(random_state=1), n_jobs=-1,\n",
       "             param_grid={'C': [10], 'gamma': ['auto'], 'kernel': ['rbf']},\n",
       "             scoring='accuracy')"
      ]
     },
     "execution_count": 40,
     "metadata": {},
     "output_type": "execute_result"
    }
   ],
   "source": [
    "\n",
    "svm_param_grid = {\n",
    "    'C': [0.1, 1, 10],\n",
    "    'kernel': ['linear', 'rbf', 'poly'],\n",
    "    'gamma': ['scale', 'auto'],\n",
    "}\n",
    "\n",
    "svm_best_params = {\n",
    "    'C': [10],\n",
    "    'kernel': ['rbf'],\n",
    "    'gamma': ['auto'],\n",
    "}\n",
    "\n",
    "# Create grid search\n",
    "svm_gridsearch = GridSearchCV(estimator=svmModel, param_grid=svm_best_params, cv=5, scoring='accuracy', n_jobs=-1)\n",
    "\n",
    "# Fit grid search\n",
    "svm_gridsearch.fit(x_train, y_train)"
   ]
  },
  {
   "cell_type": "markdown",
   "id": "273e47c4",
   "metadata": {
    "papermill": {
     "duration": 0.034208,
     "end_time": "2024-01-10T12:05:35.507888",
     "exception": false,
     "start_time": "2024-01-10T12:05:35.473680",
     "status": "completed"
    },
    "tags": []
   },
   "source": [
    "Get Best parameters and best estimator for SVM from GridSearchCV"
   ]
  },
  {
   "cell_type": "code",
   "execution_count": 41,
   "id": "eb1ff10e",
   "metadata": {
    "execution": {
     "iopub.execute_input": "2024-01-10T12:05:35.581685Z",
     "iopub.status.busy": "2024-01-10T12:05:35.580936Z",
     "iopub.status.idle": "2024-01-10T12:05:35.587827Z",
     "shell.execute_reply": "2024-01-10T12:05:35.586874Z"
    },
    "papermill": {
     "duration": 0.047116,
     "end_time": "2024-01-10T12:05:35.590583",
     "exception": false,
     "start_time": "2024-01-10T12:05:35.543467",
     "status": "completed"
    },
    "tags": []
   },
   "outputs": [
    {
     "name": "stdout",
     "output_type": "stream",
     "text": [
      "Best Parameters : {'C': 10, 'gamma': 'auto', 'kernel': 'rbf'}\n",
      "Best Estimator  : SVC(C=10, gamma='auto', random_state=1)\n"
     ]
    }
   ],
   "source": [
    "svm_best_params = svm_gridsearch.best_params_\n",
    "svm_best_estimator = svm_gridsearch.best_estimator_\n",
    "\n",
    "print(f\"Best Parameters : {svm_best_params}\")\n",
    "print(f\"Best Estimator  : {svm_best_estimator}\")"
   ]
  },
  {
   "cell_type": "markdown",
   "id": "e4163632",
   "metadata": {
    "papermill": {
     "duration": 0.033566,
     "end_time": "2024-01-10T12:05:35.658483",
     "exception": false,
     "start_time": "2024-01-10T12:05:35.624917",
     "status": "completed"
    },
    "tags": []
   },
   "source": [
    "Make prediction using best estimator"
   ]
  },
  {
   "cell_type": "code",
   "execution_count": 42,
   "id": "8519dcda",
   "metadata": {
    "execution": {
     "iopub.execute_input": "2024-01-10T12:05:35.729110Z",
     "iopub.status.busy": "2024-01-10T12:05:35.728676Z",
     "iopub.status.idle": "2024-01-10T12:05:45.038281Z",
     "shell.execute_reply": "2024-01-10T12:05:45.036281Z"
    },
    "papermill": {
     "duration": 9.349944,
     "end_time": "2024-01-10T12:05:45.042110",
     "exception": false,
     "start_time": "2024-01-10T12:05:35.692166",
     "status": "completed"
    },
    "tags": []
   },
   "outputs": [],
   "source": [
    "svm_pred_CV = svm_best_estimator.predict(x_test)"
   ]
  },
  {
   "cell_type": "markdown",
   "id": "f5fd8ef0",
   "metadata": {
    "papermill": {
     "duration": 0.034475,
     "end_time": "2024-01-10T12:05:45.111101",
     "exception": false,
     "start_time": "2024-01-10T12:05:45.076626",
     "status": "completed"
    },
    "tags": []
   },
   "source": [
    "Accuracy"
   ]
  },
  {
   "cell_type": "code",
   "execution_count": 43,
   "id": "e1ab09e3",
   "metadata": {
    "execution": {
     "iopub.execute_input": "2024-01-10T12:05:45.183214Z",
     "iopub.status.busy": "2024-01-10T12:05:45.182808Z",
     "iopub.status.idle": "2024-01-10T12:05:45.192820Z",
     "shell.execute_reply": "2024-01-10T12:05:45.190896Z"
    },
    "papermill": {
     "duration": 0.049999,
     "end_time": "2024-01-10T12:05:45.196542",
     "exception": false,
     "start_time": "2024-01-10T12:05:45.146543",
     "status": "completed"
    },
    "tags": []
   },
   "outputs": [
    {
     "name": "stdout",
     "output_type": "stream",
     "text": [
      "Best Accuracy: 88.01\n"
     ]
    }
   ],
   "source": [
    "svm_accuracy_cv = metrics.accuracy_score(y_test, svm_pred_CV)*100\n",
    "print(f\"Best Accuracy: {svm_accuracy_cv:.2f}\")"
   ]
  },
  {
   "cell_type": "markdown",
   "id": "5dfea265",
   "metadata": {
    "papermill": {
     "duration": 0.034151,
     "end_time": "2024-01-10T12:05:45.269252",
     "exception": false,
     "start_time": "2024-01-10T12:05:45.235101",
     "status": "completed"
    },
    "tags": []
   },
   "source": [
    "**SVM** Accuracy Scores"
   ]
  },
  {
   "cell_type": "code",
   "execution_count": 44,
   "id": "6f9159de",
   "metadata": {
    "execution": {
     "iopub.execute_input": "2024-01-10T12:05:45.344631Z",
     "iopub.status.busy": "2024-01-10T12:05:45.344152Z",
     "iopub.status.idle": "2024-01-10T12:05:45.350040Z",
     "shell.execute_reply": "2024-01-10T12:05:45.348890Z"
    },
    "papermill": {
     "duration": 0.048307,
     "end_time": "2024-01-10T12:05:45.352880",
     "exception": false,
     "start_time": "2024-01-10T12:05:45.304573",
     "status": "completed"
    },
    "tags": []
   },
   "outputs": [
    {
     "name": "stdout",
     "output_type": "stream",
     "text": [
      "SVM accuracy without CV : 87.28\n",
      "SVM accuracy with CV    : 88.01\n"
     ]
    }
   ],
   "source": [
    "print(f\"SVM accuracy without CV : {svm_accuracy:.2f}\")\n",
    "print(f\"SVM accuracy with CV    : {svm_accuracy_cv:.2f}\")"
   ]
  },
  {
   "cell_type": "markdown",
   "id": "8061bda8",
   "metadata": {
    "papermill": {
     "duration": 0.036739,
     "end_time": "2024-01-10T12:05:45.423912",
     "exception": false,
     "start_time": "2024-01-10T12:05:45.387173",
     "status": "completed"
    },
    "tags": []
   },
   "source": [
    "**Classification Report**"
   ]
  },
  {
   "cell_type": "code",
   "execution_count": 45,
   "id": "3b26f93e",
   "metadata": {
    "execution": {
     "iopub.execute_input": "2024-01-10T12:05:45.495301Z",
     "iopub.status.busy": "2024-01-10T12:05:45.494824Z",
     "iopub.status.idle": "2024-01-10T12:05:45.536846Z",
     "shell.execute_reply": "2024-01-10T12:05:45.535417Z"
    },
    "papermill": {
     "duration": 0.081339,
     "end_time": "2024-01-10T12:05:45.539909",
     "exception": false,
     "start_time": "2024-01-10T12:05:45.458570",
     "status": "completed"
    },
    "tags": []
   },
   "outputs": [
    {
     "name": "stdout",
     "output_type": "stream",
     "text": [
      "Classification Report for SVM with CV:\n",
      "               precision    recall  f1-score   support\n",
      "\n",
      "           0     0.8729    0.8990    0.8858      6220\n",
      "           1     0.8883    0.8599    0.8739      5809\n",
      "\n",
      "    accuracy                         0.8801     12029\n",
      "   macro avg     0.8806    0.8795    0.8798     12029\n",
      "weighted avg     0.8804    0.8801    0.8800     12029\n",
      "\n"
     ]
    }
   ],
   "source": [
    "classification_report_str = classification_report(y_test, svm_pred_CV, digits=4)\n",
    "\n",
    "print(\"Classification Report for SVM with CV:\\n\", classification_report_str)"
   ]
  },
  {
   "cell_type": "markdown",
   "id": "3aef6882",
   "metadata": {
    "papermill": {
     "duration": 0.036328,
     "end_time": "2024-01-10T12:05:45.611826",
     "exception": false,
     "start_time": "2024-01-10T12:05:45.575498",
     "status": "completed"
    },
    "tags": []
   },
   "source": [
    "**Accuracy of all three models**"
   ]
  },
  {
   "cell_type": "code",
   "execution_count": 46,
   "id": "a3e339c5",
   "metadata": {
    "execution": {
     "iopub.execute_input": "2024-01-10T12:05:45.686326Z",
     "iopub.status.busy": "2024-01-10T12:05:45.684985Z",
     "iopub.status.idle": "2024-01-10T12:05:45.691921Z",
     "shell.execute_reply": "2024-01-10T12:05:45.690553Z"
    },
    "papermill": {
     "duration": 0.045777,
     "end_time": "2024-01-10T12:05:45.694699",
     "exception": false,
     "start_time": "2024-01-10T12:05:45.648922",
     "status": "completed"
    },
    "tags": []
   },
   "outputs": [
    {
     "name": "stdout",
     "output_type": "stream",
     "text": [
      "RF accuracy with CV    : 87.82\n",
      "MLP accuracy with CV   : 87.77\n",
      "SVM accuracy with CV   : 88.01\n"
     ]
    }
   ],
   "source": [
    "print(f\"RF accuracy with CV    : {rf_accuracy_cv:.2f}\")\n",
    "print(f\"MLP accuracy with CV   : {mlp_accuracy_cv:.2f}\")\n",
    "print(f\"SVM accuracy with CV   : {svm_accuracy_cv:.2f}\")"
   ]
  },
  {
   "cell_type": "markdown",
   "id": "135d1fa1",
   "metadata": {
    "papermill": {
     "duration": 0.035202,
     "end_time": "2024-01-10T12:05:45.769008",
     "exception": false,
     "start_time": "2024-01-10T12:05:45.733806",
     "status": "completed"
    },
    "tags": []
   },
   "source": [
    "**Visualization**"
   ]
  },
  {
   "cell_type": "code",
   "execution_count": 47,
   "id": "686c132e",
   "metadata": {
    "execution": {
     "iopub.execute_input": "2024-01-10T12:05:45.847211Z",
     "iopub.status.busy": "2024-01-10T12:05:45.846776Z",
     "iopub.status.idle": "2024-01-10T12:05:46.332419Z",
     "shell.execute_reply": "2024-01-10T12:05:46.330823Z"
    },
    "papermill": {
     "duration": 0.531505,
     "end_time": "2024-01-10T12:05:46.336230",
     "exception": false,
     "start_time": "2024-01-10T12:05:45.804725",
     "status": "completed"
    },
    "tags": []
   },
   "outputs": [
    {
     "data": {
      "text/plain": [
       "Text(0.5, 427.9555555555555, 'Predicted label')"
      ]
     },
     "execution_count": 47,
     "metadata": {},
     "output_type": "execute_result"
    },
    {
     "data": {
      "image/png": "[encoded data removed]",
      "text/plain": [
       "<Figure size 640x480 with 2 Axes>"
      ]
     },
     "metadata": {},
     "output_type": "display_data"
    }
   ],
   "source": [
    "cnf_matrix = metrics.confusion_matrix(y_test, rf_pred_CV)\n",
    "cnf_matrix\n",
    "\n",
    "class_names=[0,1] # name  of classes\n",
    "fig, ax = plt.subplots()\n",
    "tick_marks = np.arange(len(class_names))\n",
    "plt.xticks(tick_marks, class_names)\n",
    "plt.yticks(tick_marks, class_names)\n",
    "# create heatmap\n",
    "sns.heatmap(pd.DataFrame(cnf_matrix), annot=True, cmap=\"YlGnBu\" ,fmt='g')\n",
    "ax.xaxis.set_label_position(\"top\")\n",
    "plt.tight_layout()\n",
    "plt.title('Confusion matrix: RF', y=1.1)\n",
    "plt.ylabel('Actual label')\n",
    "plt.xlabel('Predicted label')"
   ]
  },
  {
   "cell_type": "code",
   "execution_count": 48,
   "id": "bb6ce2bf",
   "metadata": {
    "execution": {
     "iopub.execute_input": "2024-01-10T12:05:46.412018Z",
     "iopub.status.busy": "2024-01-10T12:05:46.411252Z",
     "iopub.status.idle": "2024-01-10T12:05:46.985157Z",
     "shell.execute_reply": "2024-01-10T12:05:46.983641Z"
    },
    "papermill": {
     "duration": 0.61531,
     "end_time": "2024-01-10T12:05:46.988279",
     "exception": false,
     "start_time": "2024-01-10T12:05:46.372969",
     "status": "completed"
    },
    "tags": []
   },
   "outputs": [
    {
     "data": {
      "text/plain": [
       "Text(0.5, 427.9555555555555, 'Predicted label')"
      ]
     },
     "execution_count": 48,
     "metadata": {},
     "output_type": "execute_result"
    },
    {
     "data": {
      "image/png": "[encoded data removed]",
      "text/plain": [
       "<Figure size 640x480 with 2 Axes>"
      ]
     },
     "metadata": {},
     "output_type": "display_data"
    }
   ],
   "source": [
    "cnf_matrix = metrics.confusion_matrix(y_test, mlp_pred_CV)\n",
    "cnf_matrix\n",
    "\n",
    "class_names=[0,1] # name  of classes\n",
    "fig, ax = plt.subplots()\n",
    "tick_marks = np.arange(len(class_names))\n",
    "plt.xticks(tick_marks, class_names)\n",
    "plt.yticks(tick_marks, class_names)\n",
    "# create heatmap\n",
    "sns.heatmap(pd.DataFrame(cnf_matrix), annot=True, cmap=\"YlGnBu\" ,fmt='g')\n",
    "ax.xaxis.set_label_position(\"top\")\n",
    "plt.tight_layout()\n",
    "plt.title('Confusion matrix: MLP', y=1.1)\n",
    "plt.ylabel('Actual label')\n",
    "plt.xlabel('Predicted label')"
   ]
  },
  {
   "cell_type": "code",
   "execution_count": 49,
   "id": "fcd28237",
   "metadata": {
    "execution": {
     "iopub.execute_input": "2024-01-10T12:05:47.065140Z",
     "iopub.status.busy": "2024-01-10T12:05:47.064127Z",
     "iopub.status.idle": "2024-01-10T12:05:47.498674Z",
     "shell.execute_reply": "2024-01-10T12:05:47.497344Z"
    },
    "papermill": {
     "duration": 0.475927,
     "end_time": "2024-01-10T12:05:47.501272",
     "exception": false,
     "start_time": "2024-01-10T12:05:47.025345",
     "status": "completed"
    },
    "tags": []
   },
   "outputs": [
    {
     "data": {
      "text/plain": [
       "Text(0.5, 427.9555555555555, 'Predicted label')"
      ]
     },
     "execution_count": 49,
     "metadata": {},
     "output_type": "execute_result"
    },
    {
     "data": {
      "image/png": "[encoded data removed]",
      "text/plain": [
       "<Figure size 640x480 with 2 Axes>"
      ]
     },
     "metadata": {},
     "output_type": "display_data"
    }
   ],
   "source": [
    "cnf_matrix = metrics.confusion_matrix(y_test, svm_pred_CV)\n",
    "cnf_matrix\n",
    "\n",
    "class_names=[0,1] # name  of classes\n",
    "fig, ax = plt.subplots()\n",
    "tick_marks = np.arange(len(class_names))\n",
    "plt.xticks(tick_marks, class_names)\n",
    "plt.yticks(tick_marks, class_names)\n",
    "# create heatmap\n",
    "sns.heatmap(pd.DataFrame(cnf_matrix), annot=True, cmap=\"YlGnBu\" ,fmt='g')\n",
    "ax.xaxis.set_label_position(\"top\")\n",
    "plt.tight_layout()\n",
    "plt.title('Confusion matrix: SVM', y=1.1)\n",
    "plt.ylabel('Actual label')\n",
    "plt.xlabel('Predicted label')"
   ]
  }
 ],
 "metadata": {
  "kaggle": {
   "accelerator": "none",
   "dataSources": [
    {
     "datasetId": 107706,
     "sourceId": 256873,
     "sourceType": "datasetVersion"
    }
   ],
   "dockerImageVersionId": 30626,
   "isGpuEnabled": false,
   "isInternetEnabled": true,
   "language": "python",
   "sourceType": "notebook"
  },
  "kernelspec": {
   "display_name": "Python 3",
   "language": "python",
   "name": "python3"
  },
  "language_info": {
   "codemirror_mode": {
    "name": "ipython",
    "version": 3
   },
   "file_extension": ".py",
   "mimetype": "text/x-python",
   "name": "python",
   "nbconvert_exporter": "python",
   "pygments_lexer": "ipython3",
   "version": "3.11.8"
  },
  "papermill": {
   "default_parameters": {},
   "duration": 1852.70764,
   "end_time": "2024-01-10T12:05:50.169716",
   "environment_variables": {},
   "exception": null,
   "input_path": "__notebook__.ipynb",
   "output_path": "__notebook__.ipynb",
   "parameters": {},
   "start_time": "2024-01-10T11:34:57.462076",
   "version": "2.4.0"
  }
 },
 "nbformat": 4,
 "nbformat_minor": 5
}
